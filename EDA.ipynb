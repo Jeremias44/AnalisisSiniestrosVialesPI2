{
 "cells": [
  {
   "cell_type": "code",
   "execution_count": 1,
   "metadata": {},
   "outputs": [],
   "source": [
    "import pandas as pd\n",
    "import numpy as np\n",
    "import datetime"
   ]
  },
  {
   "cell_type": "markdown",
   "metadata": {},
   "source": [
    "### EDA (análisis exploratorio de datos) donde se normaliza el tipo de datos de cada columna, se realizan las imputaciones correspondientes y se realizan las primeras visualizaciones para comprender los datos, aplicando filtros correspondientes a partir del archivo 'siniestrosETL.csv'"
   ]
  },
  {
   "cell_type": "markdown",
   "metadata": {},
   "source": [
    "### Además se analiza la presencia de valores nulos, duplicados y outliers"
   ]
  },
  {
   "cell_type": "code",
   "execution_count": 2,
   "metadata": {},
   "outputs": [],
   "source": [
    "siniestros = pd.read_csv('siniestrosETL.csv')"
   ]
  },
  {
   "cell_type": "code",
   "execution_count": 3,
   "metadata": {},
   "outputs": [
    {
     "name": "stdout",
     "output_type": "stream",
     "text": [
      "<class 'pandas.core.frame.DataFrame'>\n",
      "RangeIndex: 28306 entries, 0 to 28305\n",
      "Data columns (total 13 columns):\n",
      " #   Column      Non-Null Count  Dtype \n",
      "---  ------      --------------  ----- \n",
      " 0   ID          28306 non-null  object\n",
      " 1   FECHA       28306 non-null  object\n",
      " 2   A           28306 non-null  int64 \n",
      " 3   M           28306 non-null  int64 \n",
      " 4   D           28306 non-null  int64 \n",
      " 5   H           28306 non-null  int64 \n",
      " 6   COMUNA      28130 non-null  object\n",
      " 7   LONGITUD    28038 non-null  object\n",
      " 8   LATITUD     28038 non-null  object\n",
      " 9   TIPO_CALLE  28306 non-null  object\n",
      " 10  ACUSADO     28306 non-null  object\n",
      " 11  VICTIMA     28306 non-null  object\n",
      " 12  FATAL       28306 non-null  int64 \n",
      "dtypes: int64(5), object(8)\n",
      "memory usage: 2.8+ MB\n"
     ]
    }
   ],
   "source": [
    "siniestros.info()"
   ]
  },
  {
   "cell_type": "markdown",
   "metadata": {},
   "source": [
    "### Tratamiento de nulos"
   ]
  },
  {
   "cell_type": "markdown",
   "metadata": {},
   "source": [
    "Se eliminan registros cuyos valores de COMUNA son nulos o sin dato"
   ]
  },
  {
   "cell_type": "code",
   "execution_count": 4,
   "metadata": {},
   "outputs": [
    {
     "data": {
      "text/plain": [
       "array(['8', '9', '1', '11', '15', '4', '7', '12', '3', '13', '14', '10',\n",
       "       '6', '2', '5', '0', 'No Especificada', nan, 'SD'], dtype=object)"
      ]
     },
     "execution_count": 4,
     "metadata": {},
     "output_type": "execute_result"
    }
   ],
   "source": [
    "siniestros.COMUNA.unique()"
   ]
  },
  {
   "cell_type": "code",
   "execution_count": 5,
   "metadata": {},
   "outputs": [],
   "source": [
    "siniestros = siniestros[(siniestros['COMUNA'] != 'No Especificada') &\n",
    "                        (siniestros['COMUNA'] != 'SD') &\n",
    "                        (siniestros['COMUNA'] != '0')]"
   ]
  },
  {
   "cell_type": "code",
   "execution_count": 6,
   "metadata": {},
   "outputs": [],
   "source": [
    "siniestros = siniestros.dropna(subset=['COMUNA'])"
   ]
  },
  {
   "cell_type": "markdown",
   "metadata": {},
   "source": [
    "Se pasa COMUNA a tipo de dato entero (int)"
   ]
  },
  {
   "cell_type": "code",
   "execution_count": 7,
   "metadata": {},
   "outputs": [],
   "source": [
    "siniestros = siniestros.copy()\n",
    "siniestros['COMUNA'] = siniestros['COMUNA'].astype(int)"
   ]
  },
  {
   "cell_type": "code",
   "execution_count": 8,
   "metadata": {},
   "outputs": [
    {
     "data": {
      "text/html": [
       "<div>\n",
       "<style scoped>\n",
       "    .dataframe tbody tr th:only-of-type {\n",
       "        vertical-align: middle;\n",
       "    }\n",
       "\n",
       "    .dataframe tbody tr th {\n",
       "        vertical-align: top;\n",
       "    }\n",
       "\n",
       "    .dataframe thead th {\n",
       "        text-align: right;\n",
       "    }\n",
       "</style>\n",
       "<table border=\"1\" class=\"dataframe\">\n",
       "  <thead>\n",
       "    <tr style=\"text-align: right;\">\n",
       "      <th></th>\n",
       "      <th>ID</th>\n",
       "      <th>FECHA</th>\n",
       "      <th>A</th>\n",
       "      <th>M</th>\n",
       "      <th>D</th>\n",
       "      <th>H</th>\n",
       "      <th>COMUNA</th>\n",
       "      <th>LONGITUD</th>\n",
       "      <th>LATITUD</th>\n",
       "      <th>TIPO_CALLE</th>\n",
       "      <th>ACUSADO</th>\n",
       "      <th>VICTIMA</th>\n",
       "      <th>FATAL</th>\n",
       "    </tr>\n",
       "  </thead>\n",
       "  <tbody>\n",
       "    <tr>\n",
       "      <th>0</th>\n",
       "      <td>2016-0001</td>\n",
       "      <td>2016-01-01</td>\n",
       "      <td>2016</td>\n",
       "      <td>1</td>\n",
       "      <td>1</td>\n",
       "      <td>4</td>\n",
       "      <td>8</td>\n",
       "      <td>-58.47533969</td>\n",
       "      <td>-34.68757022</td>\n",
       "      <td>AVENIDA</td>\n",
       "      <td>AUTO</td>\n",
       "      <td>MOTO</td>\n",
       "      <td>1</td>\n",
       "    </tr>\n",
       "    <tr>\n",
       "      <th>1</th>\n",
       "      <td>2016-0002</td>\n",
       "      <td>2016-01-02</td>\n",
       "      <td>2016</td>\n",
       "      <td>1</td>\n",
       "      <td>2</td>\n",
       "      <td>1</td>\n",
       "      <td>9</td>\n",
       "      <td>-58.50877521</td>\n",
       "      <td>-34.66977709</td>\n",
       "      <td>GRAL PAZ</td>\n",
       "      <td>PASAJEROS</td>\n",
       "      <td>AUTO</td>\n",
       "      <td>1</td>\n",
       "    </tr>\n",
       "    <tr>\n",
       "      <th>2</th>\n",
       "      <td>2016-0003</td>\n",
       "      <td>2016-01-03</td>\n",
       "      <td>2016</td>\n",
       "      <td>1</td>\n",
       "      <td>3</td>\n",
       "      <td>7</td>\n",
       "      <td>1</td>\n",
       "      <td>-58.39040293</td>\n",
       "      <td>-34.63189362</td>\n",
       "      <td>AVENIDA</td>\n",
       "      <td>AUTO</td>\n",
       "      <td>MOTO</td>\n",
       "      <td>1</td>\n",
       "    </tr>\n",
       "    <tr>\n",
       "      <th>3</th>\n",
       "      <td>2016-0004</td>\n",
       "      <td>2016-01-10</td>\n",
       "      <td>2016</td>\n",
       "      <td>1</td>\n",
       "      <td>10</td>\n",
       "      <td>0</td>\n",
       "      <td>8</td>\n",
       "      <td>-58.46503904</td>\n",
       "      <td>-34.68092974</td>\n",
       "      <td>AVENIDA</td>\n",
       "      <td>SD</td>\n",
       "      <td>MOTO</td>\n",
       "      <td>1</td>\n",
       "    </tr>\n",
       "    <tr>\n",
       "      <th>4</th>\n",
       "      <td>2016-0005</td>\n",
       "      <td>2016-01-21</td>\n",
       "      <td>2016</td>\n",
       "      <td>1</td>\n",
       "      <td>21</td>\n",
       "      <td>5</td>\n",
       "      <td>1</td>\n",
       "      <td>-58.38718297</td>\n",
       "      <td>-34.62246630</td>\n",
       "      <td>AVENIDA</td>\n",
       "      <td>PASAJEROS</td>\n",
       "      <td>MOTO</td>\n",
       "      <td>1</td>\n",
       "    </tr>\n",
       "    <tr>\n",
       "      <th>...</th>\n",
       "      <td>...</td>\n",
       "      <td>...</td>\n",
       "      <td>...</td>\n",
       "      <td>...</td>\n",
       "      <td>...</td>\n",
       "      <td>...</td>\n",
       "      <td>...</td>\n",
       "      <td>...</td>\n",
       "      <td>...</td>\n",
       "      <td>...</td>\n",
       "      <td>...</td>\n",
       "      <td>...</td>\n",
       "      <td>...</td>\n",
       "    </tr>\n",
       "    <tr>\n",
       "      <th>28298</th>\n",
       "      <td>LC-2021-0305042</td>\n",
       "      <td>2021-06-28</td>\n",
       "      <td>2021</td>\n",
       "      <td>6</td>\n",
       "      <td>28</td>\n",
       "      <td>19</td>\n",
       "      <td>14</td>\n",
       "      <td>-58.437400875260</td>\n",
       "      <td>-34.581709500021</td>\n",
       "      <td>CALLE</td>\n",
       "      <td>MOVIL</td>\n",
       "      <td>AUTO</td>\n",
       "      <td>0</td>\n",
       "    </tr>\n",
       "    <tr>\n",
       "      <th>28299</th>\n",
       "      <td>LC-2021-0305042</td>\n",
       "      <td>2021-06-28</td>\n",
       "      <td>2021</td>\n",
       "      <td>6</td>\n",
       "      <td>28</td>\n",
       "      <td>19</td>\n",
       "      <td>14</td>\n",
       "      <td>-58.437400875260</td>\n",
       "      <td>-34.581709500021</td>\n",
       "      <td>CALLE</td>\n",
       "      <td>MOVIL</td>\n",
       "      <td>AUTO</td>\n",
       "      <td>0</td>\n",
       "    </tr>\n",
       "    <tr>\n",
       "      <th>28301</th>\n",
       "      <td>LC-2021-0451911</td>\n",
       "      <td>2021-09-11</td>\n",
       "      <td>2021</td>\n",
       "      <td>9</td>\n",
       "      <td>11</td>\n",
       "      <td>18</td>\n",
       "      <td>14</td>\n",
       "      <td>-58.420119387377</td>\n",
       "      <td>-34.581370448309</td>\n",
       "      <td>AVENIDA</td>\n",
       "      <td>TRANSPORTE PUBLICO</td>\n",
       "      <td>TRANSPORTE PUBLICO</td>\n",
       "      <td>0</td>\n",
       "    </tr>\n",
       "    <tr>\n",
       "      <th>28302</th>\n",
       "      <td>LC-2021-0530228</td>\n",
       "      <td>2021-10-25</td>\n",
       "      <td>2021</td>\n",
       "      <td>10</td>\n",
       "      <td>25</td>\n",
       "      <td>12</td>\n",
       "      <td>14</td>\n",
       "      <td>-58.406897</td>\n",
       "      <td>-34.581142</td>\n",
       "      <td>SD</td>\n",
       "      <td>TRANSPORTE PUBLICO</td>\n",
       "      <td>TRANSPORTE PUBLICO</td>\n",
       "      <td>0</td>\n",
       "    </tr>\n",
       "    <tr>\n",
       "      <th>28303</th>\n",
       "      <td>LC-2021-0530228</td>\n",
       "      <td>2021-10-25</td>\n",
       "      <td>2021</td>\n",
       "      <td>10</td>\n",
       "      <td>25</td>\n",
       "      <td>12</td>\n",
       "      <td>14</td>\n",
       "      <td>-58.406897</td>\n",
       "      <td>-34.581142</td>\n",
       "      <td>SD</td>\n",
       "      <td>TRANSPORTE PUBLICO</td>\n",
       "      <td>TRANSPORTE PUBLICO</td>\n",
       "      <td>0</td>\n",
       "    </tr>\n",
       "  </tbody>\n",
       "</table>\n",
       "<p>26688 rows × 13 columns</p>\n",
       "</div>"
      ],
      "text/plain": [
       "                    ID       FECHA     A   M   D   H  COMUNA  \\\n",
       "0            2016-0001  2016-01-01  2016   1   1   4       8   \n",
       "1            2016-0002  2016-01-02  2016   1   2   1       9   \n",
       "2            2016-0003  2016-01-03  2016   1   3   7       1   \n",
       "3            2016-0004  2016-01-10  2016   1  10   0       8   \n",
       "4            2016-0005  2016-01-21  2016   1  21   5       1   \n",
       "...                ...         ...   ...  ..  ..  ..     ...   \n",
       "28298  LC-2021-0305042  2021-06-28  2021   6  28  19      14   \n",
       "28299  LC-2021-0305042  2021-06-28  2021   6  28  19      14   \n",
       "28301  LC-2021-0451911  2021-09-11  2021   9  11  18      14   \n",
       "28302  LC-2021-0530228  2021-10-25  2021  10  25  12      14   \n",
       "28303  LC-2021-0530228  2021-10-25  2021  10  25  12      14   \n",
       "\n",
       "               LONGITUD           LATITUD TIPO_CALLE             ACUSADO  \\\n",
       "0          -58.47533969      -34.68757022    AVENIDA                AUTO   \n",
       "1          -58.50877521      -34.66977709   GRAL PAZ           PASAJEROS   \n",
       "2          -58.39040293      -34.63189362    AVENIDA                AUTO   \n",
       "3          -58.46503904      -34.68092974    AVENIDA                  SD   \n",
       "4          -58.38718297      -34.62246630    AVENIDA           PASAJEROS   \n",
       "...                 ...               ...        ...                 ...   \n",
       "28298  -58.437400875260  -34.581709500021      CALLE               MOVIL   \n",
       "28299  -58.437400875260  -34.581709500021      CALLE               MOVIL   \n",
       "28301  -58.420119387377  -34.581370448309    AVENIDA  TRANSPORTE PUBLICO   \n",
       "28302        -58.406897        -34.581142         SD  TRANSPORTE PUBLICO   \n",
       "28303        -58.406897        -34.581142         SD  TRANSPORTE PUBLICO   \n",
       "\n",
       "                  VICTIMA  FATAL  \n",
       "0                    MOTO      1  \n",
       "1                    AUTO      1  \n",
       "2                    MOTO      1  \n",
       "3                    MOTO      1  \n",
       "4                    MOTO      1  \n",
       "...                   ...    ...  \n",
       "28298                AUTO      0  \n",
       "28299                AUTO      0  \n",
       "28301  TRANSPORTE PUBLICO      0  \n",
       "28302  TRANSPORTE PUBLICO      0  \n",
       "28303  TRANSPORTE PUBLICO      0  \n",
       "\n",
       "[26688 rows x 13 columns]"
      ]
     },
     "execution_count": 8,
     "metadata": {},
     "output_type": "execute_result"
    }
   ],
   "source": [
    "siniestros"
   ]
  },
  {
   "cell_type": "markdown",
   "metadata": {},
   "source": [
    "Se pasa FECHA a tipo date"
   ]
  },
  {
   "cell_type": "code",
   "execution_count": 9,
   "metadata": {},
   "outputs": [],
   "source": [
    "siniestros['FECHA'] = pd.to_datetime(siniestros['FECHA'])"
   ]
  },
  {
   "cell_type": "markdown",
   "metadata": {},
   "source": [
    "Se pasan año, mes y día a formato datetime"
   ]
  },
  {
   "cell_type": "code",
   "execution_count": 10,
   "metadata": {},
   "outputs": [],
   "source": [
    "siniestros['A'] = siniestros['FECHA'].dt.year\n",
    "siniestros['M'] = siniestros['FECHA'].dt.month\n",
    "siniestros['D'] = siniestros['FECHA'].dt.day"
   ]
  },
  {
   "cell_type": "markdown",
   "metadata": {},
   "source": [
    "Se crea una nueva columna para el día de la semana"
   ]
  },
  {
   "cell_type": "code",
   "execution_count": 11,
   "metadata": {},
   "outputs": [],
   "source": [
    "dias_semana_espanol = ['Lunes', 'Martes', 'Miércoles', 'Jueves', 'Viernes', 'Sábado', 'Domingo']\n",
    "dias_semana_ingles = ['Monday', 'Tuesday', 'Wednesday', 'Thursday', 'Friday', 'Saturday', 'Sunday']\n",
    "siniestros['DIA_SEMANA'] = siniestros['FECHA'].dt.strftime('%A').map(\n",
    "    {dia_ingles: dia_espanol for dia_ingles, dia_espanol in zip(dias_semana_ingles, dias_semana_espanol)}\n",
    ")"
   ]
  },
  {
   "cell_type": "markdown",
   "metadata": {},
   "source": [
    "***\n",
    "***"
   ]
  },
  {
   "cell_type": "markdown",
   "metadata": {},
   "source": [
    "Se pasa LONGITUD y LATITUD a tipo float. (Esto será necesario en el caso de trabajar con folium en Streamlit, no así en Power Bi que reconoce correctamente los datos longitud y latitud cuando se encuentran en tipo texto)"
   ]
  },
  {
   "cell_type": "code",
   "execution_count": 12,
   "metadata": {},
   "outputs": [],
   "source": [
    "siniestros['LATITUD'] = pd.to_numeric(siniestros['LATITUD'], errors='coerce')\n",
    "siniestros = siniestros.dropna(subset=['LATITUD'])"
   ]
  },
  {
   "cell_type": "code",
   "execution_count": 13,
   "metadata": {},
   "outputs": [
    {
     "name": "stderr",
     "output_type": "stream",
     "text": [
      "C:\\Users\\Usuario\\AppData\\Local\\Temp\\ipykernel_3180\\2547787231.py:1: SettingWithCopyWarning: \n",
      "A value is trying to be set on a copy of a slice from a DataFrame.\n",
      "Try using .loc[row_indexer,col_indexer] = value instead\n",
      "\n",
      "See the caveats in the documentation: https://pandas.pydata.org/pandas-docs/stable/user_guide/indexing.html#returning-a-view-versus-a-copy\n",
      "  siniestros['LONGITUD'] = pd.to_numeric(siniestros['LONGITUD'], errors='coerce')\n"
     ]
    }
   ],
   "source": [
    "siniestros['LONGITUD'] = pd.to_numeric(siniestros['LONGITUD'], errors='coerce')\n",
    "siniestros = siniestros.dropna(subset=['LONGITUD'])"
   ]
  },
  {
   "cell_type": "markdown",
   "metadata": {},
   "source": [
    "***\n",
    "***"
   ]
  },
  {
   "cell_type": "markdown",
   "metadata": {},
   "source": [
    "# Reducción de categorías insignificantes"
   ]
  },
  {
   "cell_type": "markdown",
   "metadata": {},
   "source": [
    "### Asignación 'OTRO' a los valores de poca aparición en columna ACUSADO"
   ]
  },
  {
   "cell_type": "code",
   "execution_count": 14,
   "metadata": {},
   "outputs": [
    {
     "name": "stderr",
     "output_type": "stream",
     "text": [
      "C:\\Users\\Usuario\\AppData\\Local\\Temp\\ipykernel_3180\\3812245206.py:3: SettingWithCopyWarning: \n",
      "A value is trying to be set on a copy of a slice from a DataFrame\n",
      "\n",
      "See the caveats in the documentation: https://pandas.pydata.org/pandas-docs/stable/user_guide/indexing.html#returning-a-view-versus-a-copy\n",
      "  siniestros['ACUSADO'][siniestros['ACUSADO'].isin(lista_otro)] = 'OTRO'\n",
      "C:\\Users\\Usuario\\AppData\\Local\\Temp\\ipykernel_3180\\3812245206.py:4: SettingWithCopyWarning: \n",
      "A value is trying to be set on a copy of a slice from a DataFrame\n",
      "\n",
      "See the caveats in the documentation: https://pandas.pydata.org/pandas-docs/stable/user_guide/indexing.html#returning-a-view-versus-a-copy\n",
      "  siniestros['ACUSADO'][siniestros['ACUSADO'] == 'TRANSPORTE PUBLICO'] = 'COLECTIVO'\n"
     ]
    }
   ],
   "source": [
    "lista_otro = ['MOVIL','CICLISTA','UTILITARIO','MULTIPLE','PEATON','BICICLETA','MONOPATIN','TREN','OTRO']\n",
    "siniestros = siniestros.copy()\n",
    "siniestros['ACUSADO'][siniestros['ACUSADO'].isin(lista_otro)] = 'OTRO'\n",
    "siniestros['ACUSADO'][siniestros['ACUSADO'] == 'TRANSPORTE PUBLICO'] = 'COLECTIVO'"
   ]
  },
  {
   "cell_type": "markdown",
   "metadata": {},
   "source": [
    "Agrupación en ítem CARGAS, a CAMION y CAMIONETA. Agrupación en ítem AUTO a TAXI"
   ]
  },
  {
   "cell_type": "code",
   "execution_count": 16,
   "metadata": {},
   "outputs": [
    {
     "name": "stderr",
     "output_type": "stream",
     "text": [
      "C:\\Users\\Usuario\\AppData\\Local\\Temp\\ipykernel_3180\\122319526.py:1: SettingWithCopyWarning: \n",
      "A value is trying to be set on a copy of a slice from a DataFrame\n",
      "\n",
      "See the caveats in the documentation: https://pandas.pydata.org/pandas-docs/stable/user_guide/indexing.html#returning-a-view-versus-a-copy\n",
      "  siniestros['ACUSADO'][siniestros['ACUSADO'] == 'CAMIONETA'] = 'CARGAS'\n",
      "C:\\Users\\Usuario\\AppData\\Local\\Temp\\ipykernel_3180\\122319526.py:2: SettingWithCopyWarning: \n",
      "A value is trying to be set on a copy of a slice from a DataFrame\n",
      "\n",
      "See the caveats in the documentation: https://pandas.pydata.org/pandas-docs/stable/user_guide/indexing.html#returning-a-view-versus-a-copy\n",
      "  siniestros['ACUSADO'][siniestros['ACUSADO'] == 'CAMION'] = 'CARGAS'\n",
      "C:\\Users\\Usuario\\AppData\\Local\\Temp\\ipykernel_3180\\122319526.py:3: SettingWithCopyWarning: \n",
      "A value is trying to be set on a copy of a slice from a DataFrame\n",
      "\n",
      "See the caveats in the documentation: https://pandas.pydata.org/pandas-docs/stable/user_guide/indexing.html#returning-a-view-versus-a-copy\n",
      "  siniestros['ACUSADO'][siniestros['ACUSADO'] == 'TAXI'] = 'AUTO'\n"
     ]
    }
   ],
   "source": [
    "siniestros['ACUSADO'][siniestros['ACUSADO'] == 'CAMIONETA'] = 'CARGAS'\n",
    "siniestros['ACUSADO'][siniestros['ACUSADO'] == 'CAMION'] = 'CARGAS'\n",
    "siniestros['ACUSADO'][siniestros['ACUSADO'] == 'TAXI'] = 'AUTO'"
   ]
  },
  {
   "cell_type": "code",
   "execution_count": 17,
   "metadata": {},
   "outputs": [
    {
     "data": {
      "text/plain": [
       "array(['AUTO', 'PASAJEROS', 'SD', 'OBJETO FIJO', 'CARGAS', 'MOTO', 'OTRO',\n",
       "       'COLECTIVO'], dtype=object)"
      ]
     },
     "execution_count": 17,
     "metadata": {},
     "output_type": "execute_result"
    }
   ],
   "source": [
    "siniestros.ACUSADO.unique()"
   ]
  },
  {
   "cell_type": "markdown",
   "metadata": {},
   "source": [
    "### Asignación 'OTRO' a los valores de poca aparición en columna VICTIMA"
   ]
  },
  {
   "cell_type": "code",
   "execution_count": 18,
   "metadata": {},
   "outputs": [
    {
     "name": "stderr",
     "output_type": "stream",
     "text": [
      "C:\\Users\\Usuario\\AppData\\Local\\Temp\\ipykernel_3180\\761697361.py:6: SettingWithCopyWarning: \n",
      "A value is trying to be set on a copy of a slice from a DataFrame\n",
      "\n",
      "See the caveats in the documentation: https://pandas.pydata.org/pandas-docs/stable/user_guide/indexing.html#returning-a-view-versus-a-copy\n",
      "  siniestros['VICTIMA'][siniestros['VICTIMA'].isin(sin_dato)] = 'SD'\n",
      "C:\\Users\\Usuario\\AppData\\Local\\Temp\\ipykernel_3180\\761697361.py:7: SettingWithCopyWarning: \n",
      "A value is trying to be set on a copy of a slice from a DataFrame\n",
      "\n",
      "See the caveats in the documentation: https://pandas.pydata.org/pandas-docs/stable/user_guide/indexing.html#returning-a-view-versus-a-copy\n",
      "  siniestros['VICTIMA'][siniestros['VICTIMA'].isin(autos)] = 'AUTO'\n",
      "C:\\Users\\Usuario\\AppData\\Local\\Temp\\ipykernel_3180\\761697361.py:8: SettingWithCopyWarning: \n",
      "A value is trying to be set on a copy of a slice from a DataFrame\n",
      "\n",
      "See the caveats in the documentation: https://pandas.pydata.org/pandas-docs/stable/user_guide/indexing.html#returning-a-view-versus-a-copy\n",
      "  siniestros['VICTIMA'][siniestros['VICTIMA'].isin(bicicleta)] = 'BICICLETA'\n",
      "C:\\Users\\Usuario\\AppData\\Local\\Temp\\ipykernel_3180\\761697361.py:9: SettingWithCopyWarning: \n",
      "A value is trying to be set on a copy of a slice from a DataFrame\n",
      "\n",
      "See the caveats in the documentation: https://pandas.pydata.org/pandas-docs/stable/user_guide/indexing.html#returning-a-view-versus-a-copy\n",
      "  siniestros['VICTIMA'][siniestros['VICTIMA'].isin(lista_otro)] = 'OTRO'\n",
      "C:\\Users\\Usuario\\AppData\\Local\\Temp\\ipykernel_3180\\761697361.py:10: SettingWithCopyWarning: \n",
      "A value is trying to be set on a copy of a slice from a DataFrame\n",
      "\n",
      "See the caveats in the documentation: https://pandas.pydata.org/pandas-docs/stable/user_guide/indexing.html#returning-a-view-versus-a-copy\n",
      "  siniestros['VICTIMA'][siniestros['VICTIMA'] == 'TRANSPORTE PUBLICO'] = 'COLECTIVO'\n"
     ]
    }
   ],
   "source": [
    "sin_dato = ['SD','sd']\n",
    "autos = ['AUTO','TAXI']\n",
    "bicicleta = ['CICLISTA','BICICLETA','MONOPATIN']\n",
    "lista_otro = ['MOVIL','MIXTO','CAMION','CARGAS','OTRO','PASAJEROS','UTILITARIO']\n",
    "siniestros = siniestros.copy()\n",
    "siniestros['VICTIMA'][siniestros['VICTIMA'].isin(sin_dato)] = 'SD'\n",
    "siniestros['VICTIMA'][siniestros['VICTIMA'].isin(autos)] = 'AUTO'\n",
    "siniestros['VICTIMA'][siniestros['VICTIMA'].isin(bicicleta)] = 'BICICLETA' \n",
    "siniestros['VICTIMA'][siniestros['VICTIMA'].isin(lista_otro)] = 'OTRO'\n",
    "siniestros['VICTIMA'][siniestros['VICTIMA'] == 'TRANSPORTE PUBLICO'] = 'COLECTIVO'"
   ]
  },
  {
   "cell_type": "code",
   "execution_count": 19,
   "metadata": {},
   "outputs": [
    {
     "data": {
      "text/plain": [
       "VICTIMA\n",
       "SD           15199\n",
       "MOTO          4770\n",
       "PEATON        1854\n",
       "AUTO          1825\n",
       "BICICLETA     1741\n",
       "COLECTIVO      662\n",
       "OTRO           509\n",
       "Name: count, dtype: int64"
      ]
     },
     "execution_count": 19,
     "metadata": {},
     "output_type": "execute_result"
    }
   ],
   "source": [
    "siniestros.VICTIMA.value_counts()"
   ]
  },
  {
   "cell_type": "code",
   "execution_count": 20,
   "metadata": {},
   "outputs": [
    {
     "name": "stdout",
     "output_type": "stream",
     "text": [
      "<class 'pandas.core.frame.DataFrame'>\n",
      "Index: 26560 entries, 0 to 28303\n",
      "Data columns (total 14 columns):\n",
      " #   Column      Non-Null Count  Dtype         \n",
      "---  ------      --------------  -----         \n",
      " 0   ID          26560 non-null  object        \n",
      " 1   FECHA       26560 non-null  datetime64[ns]\n",
      " 2   A           26560 non-null  int32         \n",
      " 3   M           26560 non-null  int32         \n",
      " 4   D           26560 non-null  int32         \n",
      " 5   H           26560 non-null  int64         \n",
      " 6   COMUNA      26560 non-null  int32         \n",
      " 7   LONGITUD    26560 non-null  float64       \n",
      " 8   LATITUD     26560 non-null  float64       \n",
      " 9   TIPO_CALLE  26560 non-null  object        \n",
      " 10  ACUSADO     26560 non-null  object        \n",
      " 11  VICTIMA     26560 non-null  object        \n",
      " 12  FATAL       26560 non-null  int64         \n",
      " 13  DIA_SEMANA  26560 non-null  object        \n",
      "dtypes: datetime64[ns](1), float64(2), int32(4), int64(2), object(5)\n",
      "memory usage: 2.6+ MB\n"
     ]
    }
   ],
   "source": [
    "siniestros.info()"
   ]
  },
  {
   "cell_type": "markdown",
   "metadata": {},
   "source": [
    "***"
   ]
  },
  {
   "cell_type": "markdown",
   "metadata": {},
   "source": [
    "### Registros duplicados son posibles y esperables, porque hay hechos con más de una víctima, y no queremos distinguir entre características personales de cada víctima, sino a las estrictamente relacionadas con el hecho. Por esa razón se conservan los registros duplicados, los cuales aportan valor al análisis (suman al contador de víctimas)"
   ]
  },
  {
   "cell_type": "code",
   "execution_count": 21,
   "metadata": {},
   "outputs": [
    {
     "data": {
      "text/plain": [
       "(26560, 14)"
      ]
     },
     "execution_count": 21,
     "metadata": {},
     "output_type": "execute_result"
    }
   ],
   "source": [
    "siniestros.shape"
   ]
  },
  {
   "cell_type": "code",
   "execution_count": 22,
   "metadata": {},
   "outputs": [
    {
     "data": {
      "text/html": [
       "<div>\n",
       "<style scoped>\n",
       "    .dataframe tbody tr th:only-of-type {\n",
       "        vertical-align: middle;\n",
       "    }\n",
       "\n",
       "    .dataframe tbody tr th {\n",
       "        vertical-align: top;\n",
       "    }\n",
       "\n",
       "    .dataframe thead th {\n",
       "        text-align: right;\n",
       "    }\n",
       "</style>\n",
       "<table border=\"1\" class=\"dataframe\">\n",
       "  <thead>\n",
       "    <tr style=\"text-align: right;\">\n",
       "      <th></th>\n",
       "      <th>ID</th>\n",
       "      <th>FECHA</th>\n",
       "      <th>A</th>\n",
       "      <th>M</th>\n",
       "      <th>D</th>\n",
       "      <th>H</th>\n",
       "      <th>COMUNA</th>\n",
       "      <th>LONGITUD</th>\n",
       "      <th>LATITUD</th>\n",
       "      <th>TIPO_CALLE</th>\n",
       "      <th>ACUSADO</th>\n",
       "      <th>VICTIMA</th>\n",
       "      <th>FATAL</th>\n",
       "      <th>DIA_SEMANA</th>\n",
       "    </tr>\n",
       "  </thead>\n",
       "  <tbody>\n",
       "    <tr>\n",
       "      <th>0</th>\n",
       "      <td>2016-0001</td>\n",
       "      <td>2016-01-01</td>\n",
       "      <td>2016</td>\n",
       "      <td>1</td>\n",
       "      <td>1</td>\n",
       "      <td>4</td>\n",
       "      <td>8</td>\n",
       "      <td>-58.475340</td>\n",
       "      <td>-34.687570</td>\n",
       "      <td>AVENIDA</td>\n",
       "      <td>AUTO</td>\n",
       "      <td>MOTO</td>\n",
       "      <td>1</td>\n",
       "      <td>Viernes</td>\n",
       "    </tr>\n",
       "    <tr>\n",
       "      <th>1</th>\n",
       "      <td>2016-0002</td>\n",
       "      <td>2016-01-02</td>\n",
       "      <td>2016</td>\n",
       "      <td>1</td>\n",
       "      <td>2</td>\n",
       "      <td>1</td>\n",
       "      <td>9</td>\n",
       "      <td>-58.508775</td>\n",
       "      <td>-34.669777</td>\n",
       "      <td>GRAL PAZ</td>\n",
       "      <td>PASAJEROS</td>\n",
       "      <td>AUTO</td>\n",
       "      <td>1</td>\n",
       "      <td>Sábado</td>\n",
       "    </tr>\n",
       "    <tr>\n",
       "      <th>2</th>\n",
       "      <td>2016-0003</td>\n",
       "      <td>2016-01-03</td>\n",
       "      <td>2016</td>\n",
       "      <td>1</td>\n",
       "      <td>3</td>\n",
       "      <td>7</td>\n",
       "      <td>1</td>\n",
       "      <td>-58.390403</td>\n",
       "      <td>-34.631894</td>\n",
       "      <td>AVENIDA</td>\n",
       "      <td>AUTO</td>\n",
       "      <td>MOTO</td>\n",
       "      <td>1</td>\n",
       "      <td>Domingo</td>\n",
       "    </tr>\n",
       "    <tr>\n",
       "      <th>3</th>\n",
       "      <td>2016-0004</td>\n",
       "      <td>2016-01-10</td>\n",
       "      <td>2016</td>\n",
       "      <td>1</td>\n",
       "      <td>10</td>\n",
       "      <td>0</td>\n",
       "      <td>8</td>\n",
       "      <td>-58.465039</td>\n",
       "      <td>-34.680930</td>\n",
       "      <td>AVENIDA</td>\n",
       "      <td>SD</td>\n",
       "      <td>MOTO</td>\n",
       "      <td>1</td>\n",
       "      <td>Domingo</td>\n",
       "    </tr>\n",
       "    <tr>\n",
       "      <th>4</th>\n",
       "      <td>2016-0005</td>\n",
       "      <td>2016-01-21</td>\n",
       "      <td>2016</td>\n",
       "      <td>1</td>\n",
       "      <td>21</td>\n",
       "      <td>5</td>\n",
       "      <td>1</td>\n",
       "      <td>-58.387183</td>\n",
       "      <td>-34.622466</td>\n",
       "      <td>AVENIDA</td>\n",
       "      <td>PASAJEROS</td>\n",
       "      <td>MOTO</td>\n",
       "      <td>1</td>\n",
       "      <td>Jueves</td>\n",
       "    </tr>\n",
       "    <tr>\n",
       "      <th>...</th>\n",
       "      <td>...</td>\n",
       "      <td>...</td>\n",
       "      <td>...</td>\n",
       "      <td>...</td>\n",
       "      <td>...</td>\n",
       "      <td>...</td>\n",
       "      <td>...</td>\n",
       "      <td>...</td>\n",
       "      <td>...</td>\n",
       "      <td>...</td>\n",
       "      <td>...</td>\n",
       "      <td>...</td>\n",
       "      <td>...</td>\n",
       "      <td>...</td>\n",
       "    </tr>\n",
       "    <tr>\n",
       "      <th>28293</th>\n",
       "      <td>LC-2021-0314490</td>\n",
       "      <td>2021-07-04</td>\n",
       "      <td>2021</td>\n",
       "      <td>7</td>\n",
       "      <td>4</td>\n",
       "      <td>18</td>\n",
       "      <td>11</td>\n",
       "      <td>-58.516666</td>\n",
       "      <td>-34.589996</td>\n",
       "      <td>CALLE</td>\n",
       "      <td>SD</td>\n",
       "      <td>AUTO</td>\n",
       "      <td>0</td>\n",
       "      <td>Domingo</td>\n",
       "    </tr>\n",
       "    <tr>\n",
       "      <th>28296</th>\n",
       "      <td>LC-2021-0230174</td>\n",
       "      <td>2021-05-26</td>\n",
       "      <td>2021</td>\n",
       "      <td>5</td>\n",
       "      <td>26</td>\n",
       "      <td>11</td>\n",
       "      <td>14</td>\n",
       "      <td>-58.431960</td>\n",
       "      <td>-34.580349</td>\n",
       "      <td>CALLE</td>\n",
       "      <td>SD</td>\n",
       "      <td>SD</td>\n",
       "      <td>0</td>\n",
       "      <td>Miércoles</td>\n",
       "    </tr>\n",
       "    <tr>\n",
       "      <th>28297</th>\n",
       "      <td>LC-2021-0305042</td>\n",
       "      <td>2021-06-28</td>\n",
       "      <td>2021</td>\n",
       "      <td>6</td>\n",
       "      <td>28</td>\n",
       "      <td>19</td>\n",
       "      <td>14</td>\n",
       "      <td>-58.437401</td>\n",
       "      <td>-34.581710</td>\n",
       "      <td>CALLE</td>\n",
       "      <td>OTRO</td>\n",
       "      <td>AUTO</td>\n",
       "      <td>0</td>\n",
       "      <td>Lunes</td>\n",
       "    </tr>\n",
       "    <tr>\n",
       "      <th>28301</th>\n",
       "      <td>LC-2021-0451911</td>\n",
       "      <td>2021-09-11</td>\n",
       "      <td>2021</td>\n",
       "      <td>9</td>\n",
       "      <td>11</td>\n",
       "      <td>18</td>\n",
       "      <td>14</td>\n",
       "      <td>-58.420119</td>\n",
       "      <td>-34.581370</td>\n",
       "      <td>AVENIDA</td>\n",
       "      <td>COLECTIVO</td>\n",
       "      <td>COLECTIVO</td>\n",
       "      <td>0</td>\n",
       "      <td>Sábado</td>\n",
       "    </tr>\n",
       "    <tr>\n",
       "      <th>28302</th>\n",
       "      <td>LC-2021-0530228</td>\n",
       "      <td>2021-10-25</td>\n",
       "      <td>2021</td>\n",
       "      <td>10</td>\n",
       "      <td>25</td>\n",
       "      <td>12</td>\n",
       "      <td>14</td>\n",
       "      <td>-58.406897</td>\n",
       "      <td>-34.581142</td>\n",
       "      <td>SD</td>\n",
       "      <td>COLECTIVO</td>\n",
       "      <td>COLECTIVO</td>\n",
       "      <td>0</td>\n",
       "      <td>Lunes</td>\n",
       "    </tr>\n",
       "  </tbody>\n",
       "</table>\n",
       "<p>22921 rows × 14 columns</p>\n",
       "</div>"
      ],
      "text/plain": [
       "                    ID      FECHA     A   M   D   H  COMUNA   LONGITUD  \\\n",
       "0            2016-0001 2016-01-01  2016   1   1   4       8 -58.475340   \n",
       "1            2016-0002 2016-01-02  2016   1   2   1       9 -58.508775   \n",
       "2            2016-0003 2016-01-03  2016   1   3   7       1 -58.390403   \n",
       "3            2016-0004 2016-01-10  2016   1  10   0       8 -58.465039   \n",
       "4            2016-0005 2016-01-21  2016   1  21   5       1 -58.387183   \n",
       "...                ...        ...   ...  ..  ..  ..     ...        ...   \n",
       "28293  LC-2021-0314490 2021-07-04  2021   7   4  18      11 -58.516666   \n",
       "28296  LC-2021-0230174 2021-05-26  2021   5  26  11      14 -58.431960   \n",
       "28297  LC-2021-0305042 2021-06-28  2021   6  28  19      14 -58.437401   \n",
       "28301  LC-2021-0451911 2021-09-11  2021   9  11  18      14 -58.420119   \n",
       "28302  LC-2021-0530228 2021-10-25  2021  10  25  12      14 -58.406897   \n",
       "\n",
       "         LATITUD TIPO_CALLE    ACUSADO    VICTIMA  FATAL DIA_SEMANA  \n",
       "0     -34.687570    AVENIDA       AUTO       MOTO      1    Viernes  \n",
       "1     -34.669777   GRAL PAZ  PASAJEROS       AUTO      1     Sábado  \n",
       "2     -34.631894    AVENIDA       AUTO       MOTO      1    Domingo  \n",
       "3     -34.680930    AVENIDA         SD       MOTO      1    Domingo  \n",
       "4     -34.622466    AVENIDA  PASAJEROS       MOTO      1     Jueves  \n",
       "...          ...        ...        ...        ...    ...        ...  \n",
       "28293 -34.589996      CALLE         SD       AUTO      0    Domingo  \n",
       "28296 -34.580349      CALLE         SD         SD      0  Miércoles  \n",
       "28297 -34.581710      CALLE       OTRO       AUTO      0      Lunes  \n",
       "28301 -34.581370    AVENIDA  COLECTIVO  COLECTIVO      0     Sábado  \n",
       "28302 -34.581142         SD  COLECTIVO  COLECTIVO      0      Lunes  \n",
       "\n",
       "[22921 rows x 14 columns]"
      ]
     },
     "execution_count": 22,
     "metadata": {},
     "output_type": "execute_result"
    }
   ],
   "source": [
    "siniestros.drop_duplicates()"
   ]
  },
  {
   "cell_type": "markdown",
   "metadata": {},
   "source": [
    "***"
   ]
  },
  {
   "cell_type": "markdown",
   "metadata": {},
   "source": [
    "### Las visualizaciones para verificación de outliers se dan naturalmente en el archivo visualizaciones (luego de los KPI), ya que todas las variables son gráficadas con entendimiento del problema, y se detectarían de manera clara cualquier tipo de fecha o rango horario por fuera de lo esperado.\n",
    "\n",
    "### Las columnas con las que trabajamos ya fueron revisadas en cuanto a los valores \"atípicos\", y fueron corregidos los errores encontrados"
   ]
  },
  {
   "cell_type": "markdown",
   "metadata": {},
   "source": [
    "***\n",
    "***"
   ]
  },
  {
   "cell_type": "markdown",
   "metadata": {},
   "source": [
    "### Exportación de archivo siniestrosEDA.csv"
   ]
  },
  {
   "cell_type": "code",
   "execution_count": 23,
   "metadata": {},
   "outputs": [],
   "source": [
    "siniestros.to_csv('siniestrosEDA.csv', index=False)"
   ]
  }
 ],
 "metadata": {
  "kernelspec": {
   "display_name": "Python 3",
   "language": "python",
   "name": "python3"
  },
  "language_info": {
   "codemirror_mode": {
    "name": "ipython",
    "version": 3
   },
   "file_extension": ".py",
   "mimetype": "text/x-python",
   "name": "python",
   "nbconvert_exporter": "python",
   "pygments_lexer": "ipython3",
   "version": "3.11.2"
  },
  "orig_nbformat": 4
 },
 "nbformat": 4,
 "nbformat_minor": 2
}
