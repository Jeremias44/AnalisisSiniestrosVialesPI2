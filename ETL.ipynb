{
 "cells": [
  {
   "cell_type": "code",
   "execution_count": 212,
   "metadata": {},
   "outputs": [],
   "source": [
    "import pandas as pd\n",
    "import numpy as np\n",
    "import datetime"
   ]
  },
  {
   "cell_type": "markdown",
   "metadata": {},
   "source": [
    "# 1"
   ]
  },
  {
   "cell_type": "markdown",
   "metadata": {},
   "source": [
    "## Extracción, transformación y carga de los datos de homicidios.xlsx, devolviendo un df 'homicidios' que contiene 717 registros de víctimas fatales asociadas con los 696 hechos a través de un ID."
   ]
  },
  {
   "cell_type": "code",
   "execution_count": 213,
   "metadata": {},
   "outputs": [],
   "source": [
    "hechos_hom = pd.read_excel('homicidios.xlsx', sheet_name='HECHOS')\n",
    "victimas_hom = pd.read_excel('homicidios.xlsx', sheet_name='VICTIMAS')"
   ]
  },
  {
   "cell_type": "code",
   "execution_count": 214,
   "metadata": {},
   "outputs": [],
   "source": [
    "hechos_h = hechos_hom.copy()\n",
    "victimas_h = victimas_hom.copy()"
   ]
  },
  {
   "cell_type": "markdown",
   "metadata": {},
   "source": [
    "Extracción de columnas a utilizar de ambas tablas"
   ]
  },
  {
   "cell_type": "code",
   "execution_count": 215,
   "metadata": {},
   "outputs": [],
   "source": [
    "hechos_h = hechos_h[['ID','FECHA','AAAA','MM','DD','HH','COMUNA','pos x','pos y','TIPO_DE_CALLE','ACUSADO']]\n",
    "victimas_h = victimas_h[['ID_hecho','VICTIMA']]"
   ]
  },
  {
   "cell_type": "markdown",
   "metadata": {},
   "source": [
    "Normalización del nombre de las columnas"
   ]
  },
  {
   "cell_type": "code",
   "execution_count": 216,
   "metadata": {},
   "outputs": [],
   "source": [
    "hechos_h.rename(columns={'AAAA': 'A','MM': 'M', 'DD': 'D', 'HH': 'H',\n",
    "                         'pos x': 'LONGITUD', 'pos y': 'LATITUD', 'TIPO_DE_CALLE': 'TIPO_CALLE'}, inplace=True)\n",
    "victimas_h.rename(columns={'ID_hecho': 'ID'}, inplace=True)"
   ]
  },
  {
   "cell_type": "code",
   "execution_count": 217,
   "metadata": {},
   "outputs": [
    {
     "data": {
      "text/plain": [
       "(696, 11)"
      ]
     },
     "execution_count": 217,
     "metadata": {},
     "output_type": "execute_result"
    }
   ],
   "source": [
    "hechos_h.shape"
   ]
  },
  {
   "cell_type": "code",
   "execution_count": 218,
   "metadata": {},
   "outputs": [
    {
     "data": {
      "text/plain": [
       "(717, 2)"
      ]
     },
     "execution_count": 218,
     "metadata": {},
     "output_type": "execute_result"
    }
   ],
   "source": [
    "victimas_h.shape"
   ]
  },
  {
   "cell_type": "markdown",
   "metadata": {},
   "source": [
    "Merge entre ambas tablas, por medio de ID"
   ]
  },
  {
   "cell_type": "code",
   "execution_count": 219,
   "metadata": {},
   "outputs": [],
   "source": [
    "homicidios = pd.merge(hechos_h, victimas_h, on='ID', how='right')"
   ]
  },
  {
   "cell_type": "code",
   "execution_count": 220,
   "metadata": {},
   "outputs": [
    {
     "data": {
      "text/plain": [
       "(717, 12)"
      ]
     },
     "execution_count": 220,
     "metadata": {},
     "output_type": "execute_result"
    }
   ],
   "source": [
    "homicidios.shape"
   ]
  },
  {
   "cell_type": "markdown",
   "metadata": {},
   "source": [
    "Agregamos la columna fatal con valor 1, para luego al unir con el df de lesiones, diferenciar fatal 1 o 0"
   ]
  },
  {
   "cell_type": "code",
   "execution_count": 221,
   "metadata": {},
   "outputs": [],
   "source": [
    "homicidios['FATAL'] = 1"
   ]
  },
  {
   "cell_type": "markdown",
   "metadata": {},
   "source": [
    "Pasamos FECHA a formato date"
   ]
  },
  {
   "cell_type": "code",
   "execution_count": 222,
   "metadata": {},
   "outputs": [],
   "source": [
    "homicidios['FECHA'] = pd.to_datetime(homicidios['FECHA'])"
   ]
  },
  {
   "cell_type": "code",
   "execution_count": 223,
   "metadata": {},
   "outputs": [
    {
     "data": {
      "text/html": [
       "<div>\n",
       "<style scoped>\n",
       "    .dataframe tbody tr th:only-of-type {\n",
       "        vertical-align: middle;\n",
       "    }\n",
       "\n",
       "    .dataframe tbody tr th {\n",
       "        vertical-align: top;\n",
       "    }\n",
       "\n",
       "    .dataframe thead th {\n",
       "        text-align: right;\n",
       "    }\n",
       "</style>\n",
       "<table border=\"1\" class=\"dataframe\">\n",
       "  <thead>\n",
       "    <tr style=\"text-align: right;\">\n",
       "      <th></th>\n",
       "      <th>ID</th>\n",
       "      <th>FECHA</th>\n",
       "      <th>A</th>\n",
       "      <th>M</th>\n",
       "      <th>D</th>\n",
       "      <th>H</th>\n",
       "      <th>COMUNA</th>\n",
       "      <th>LONGITUD</th>\n",
       "      <th>LATITUD</th>\n",
       "      <th>TIPO_CALLE</th>\n",
       "      <th>ACUSADO</th>\n",
       "      <th>VICTIMA</th>\n",
       "      <th>FATAL</th>\n",
       "    </tr>\n",
       "  </thead>\n",
       "  <tbody>\n",
       "    <tr>\n",
       "      <th>0</th>\n",
       "      <td>2016-0001</td>\n",
       "      <td>2016-01-01</td>\n",
       "      <td>2016</td>\n",
       "      <td>1</td>\n",
       "      <td>1</td>\n",
       "      <td>4</td>\n",
       "      <td>8</td>\n",
       "      <td>-58.47533969</td>\n",
       "      <td>-34.68757022</td>\n",
       "      <td>AVENIDA</td>\n",
       "      <td>AUTO</td>\n",
       "      <td>MOTO</td>\n",
       "      <td>1</td>\n",
       "    </tr>\n",
       "    <tr>\n",
       "      <th>1</th>\n",
       "      <td>2016-0002</td>\n",
       "      <td>2016-01-02</td>\n",
       "      <td>2016</td>\n",
       "      <td>1</td>\n",
       "      <td>2</td>\n",
       "      <td>1</td>\n",
       "      <td>9</td>\n",
       "      <td>-58.50877521</td>\n",
       "      <td>-34.66977709</td>\n",
       "      <td>GRAL PAZ</td>\n",
       "      <td>PASAJEROS</td>\n",
       "      <td>AUTO</td>\n",
       "      <td>1</td>\n",
       "    </tr>\n",
       "    <tr>\n",
       "      <th>2</th>\n",
       "      <td>2016-0003</td>\n",
       "      <td>2016-01-03</td>\n",
       "      <td>2016</td>\n",
       "      <td>1</td>\n",
       "      <td>3</td>\n",
       "      <td>7</td>\n",
       "      <td>1</td>\n",
       "      <td>-58.39040293</td>\n",
       "      <td>-34.63189362</td>\n",
       "      <td>AVENIDA</td>\n",
       "      <td>AUTO</td>\n",
       "      <td>MOTO</td>\n",
       "      <td>1</td>\n",
       "    </tr>\n",
       "    <tr>\n",
       "      <th>3</th>\n",
       "      <td>2016-0004</td>\n",
       "      <td>2016-01-10</td>\n",
       "      <td>2016</td>\n",
       "      <td>1</td>\n",
       "      <td>10</td>\n",
       "      <td>0</td>\n",
       "      <td>8</td>\n",
       "      <td>-58.46503904</td>\n",
       "      <td>-34.68092974</td>\n",
       "      <td>AVENIDA</td>\n",
       "      <td>SD</td>\n",
       "      <td>MOTO</td>\n",
       "      <td>1</td>\n",
       "    </tr>\n",
       "    <tr>\n",
       "      <th>4</th>\n",
       "      <td>2016-0005</td>\n",
       "      <td>2016-01-21</td>\n",
       "      <td>2016</td>\n",
       "      <td>1</td>\n",
       "      <td>21</td>\n",
       "      <td>5</td>\n",
       "      <td>1</td>\n",
       "      <td>-58.38718297</td>\n",
       "      <td>-34.62246630</td>\n",
       "      <td>AVENIDA</td>\n",
       "      <td>PASAJEROS</td>\n",
       "      <td>MOTO</td>\n",
       "      <td>1</td>\n",
       "    </tr>\n",
       "    <tr>\n",
       "      <th>...</th>\n",
       "      <td>...</td>\n",
       "      <td>...</td>\n",
       "      <td>...</td>\n",
       "      <td>...</td>\n",
       "      <td>...</td>\n",
       "      <td>...</td>\n",
       "      <td>...</td>\n",
       "      <td>...</td>\n",
       "      <td>...</td>\n",
       "      <td>...</td>\n",
       "      <td>...</td>\n",
       "      <td>...</td>\n",
       "      <td>...</td>\n",
       "    </tr>\n",
       "    <tr>\n",
       "      <th>712</th>\n",
       "      <td>2021-0092</td>\n",
       "      <td>2021-12-12</td>\n",
       "      <td>2021</td>\n",
       "      <td>12</td>\n",
       "      <td>12</td>\n",
       "      <td>6</td>\n",
       "      <td>3</td>\n",
       "      <td>-58.40596860</td>\n",
       "      <td>-34.61011987</td>\n",
       "      <td>AVENIDA</td>\n",
       "      <td>AUTO</td>\n",
       "      <td>PEATON</td>\n",
       "      <td>1</td>\n",
       "    </tr>\n",
       "    <tr>\n",
       "      <th>713</th>\n",
       "      <td>2021-0093</td>\n",
       "      <td>2021-12-13</td>\n",
       "      <td>2021</td>\n",
       "      <td>12</td>\n",
       "      <td>13</td>\n",
       "      <td>17</td>\n",
       "      <td>7</td>\n",
       "      <td>-58.43353773</td>\n",
       "      <td>-34.64561636</td>\n",
       "      <td>AVENIDA</td>\n",
       "      <td>AUTO</td>\n",
       "      <td>MOTO</td>\n",
       "      <td>1</td>\n",
       "    </tr>\n",
       "    <tr>\n",
       "      <th>714</th>\n",
       "      <td>2021-0094</td>\n",
       "      <td>2021-12-20</td>\n",
       "      <td>2021</td>\n",
       "      <td>12</td>\n",
       "      <td>20</td>\n",
       "      <td>1</td>\n",
       "      <td>9</td>\n",
       "      <td>-58.46739825</td>\n",
       "      <td>-34.65117757</td>\n",
       "      <td>AUTOPISTA</td>\n",
       "      <td>AUTO</td>\n",
       "      <td>MOTO</td>\n",
       "      <td>1</td>\n",
       "    </tr>\n",
       "    <tr>\n",
       "      <th>715</th>\n",
       "      <td>2021-0095</td>\n",
       "      <td>2021-12-30</td>\n",
       "      <td>2021</td>\n",
       "      <td>12</td>\n",
       "      <td>30</td>\n",
       "      <td>0</td>\n",
       "      <td>11</td>\n",
       "      <td>-58.47293407</td>\n",
       "      <td>-34.61984745</td>\n",
       "      <td>AVENIDA</td>\n",
       "      <td>CARGAS</td>\n",
       "      <td>MOTO</td>\n",
       "      <td>1</td>\n",
       "    </tr>\n",
       "    <tr>\n",
       "      <th>716</th>\n",
       "      <td>2021-0096</td>\n",
       "      <td>2021-12-15</td>\n",
       "      <td>2021</td>\n",
       "      <td>12</td>\n",
       "      <td>15</td>\n",
       "      <td>10</td>\n",
       "      <td>9</td>\n",
       "      <td>-58.47066794</td>\n",
       "      <td>-34.65021673</td>\n",
       "      <td>AVENIDA</td>\n",
       "      <td>CARGAS</td>\n",
       "      <td>AUTO</td>\n",
       "      <td>1</td>\n",
       "    </tr>\n",
       "  </tbody>\n",
       "</table>\n",
       "<p>717 rows × 13 columns</p>\n",
       "</div>"
      ],
      "text/plain": [
       "            ID      FECHA     A   M   D   H  COMUNA      LONGITUD  \\\n",
       "0    2016-0001 2016-01-01  2016   1   1   4       8  -58.47533969   \n",
       "1    2016-0002 2016-01-02  2016   1   2   1       9  -58.50877521   \n",
       "2    2016-0003 2016-01-03  2016   1   3   7       1  -58.39040293   \n",
       "3    2016-0004 2016-01-10  2016   1  10   0       8  -58.46503904   \n",
       "4    2016-0005 2016-01-21  2016   1  21   5       1  -58.38718297   \n",
       "..         ...        ...   ...  ..  ..  ..     ...           ...   \n",
       "712  2021-0092 2021-12-12  2021  12  12   6       3  -58.40596860   \n",
       "713  2021-0093 2021-12-13  2021  12  13  17       7  -58.43353773   \n",
       "714  2021-0094 2021-12-20  2021  12  20   1       9  -58.46739825   \n",
       "715  2021-0095 2021-12-30  2021  12  30   0      11  -58.47293407   \n",
       "716  2021-0096 2021-12-15  2021  12  15  10       9  -58.47066794   \n",
       "\n",
       "          LATITUD TIPO_CALLE    ACUSADO VICTIMA  FATAL  \n",
       "0    -34.68757022    AVENIDA       AUTO    MOTO      1  \n",
       "1    -34.66977709   GRAL PAZ  PASAJEROS    AUTO      1  \n",
       "2    -34.63189362    AVENIDA       AUTO    MOTO      1  \n",
       "3    -34.68092974    AVENIDA         SD    MOTO      1  \n",
       "4    -34.62246630    AVENIDA  PASAJEROS    MOTO      1  \n",
       "..            ...        ...        ...     ...    ...  \n",
       "712  -34.61011987    AVENIDA       AUTO  PEATON      1  \n",
       "713  -34.64561636    AVENIDA       AUTO    MOTO      1  \n",
       "714  -34.65117757  AUTOPISTA       AUTO    MOTO      1  \n",
       "715  -34.61984745    AVENIDA     CARGAS    MOTO      1  \n",
       "716  -34.65021673    AVENIDA     CARGAS    AUTO      1  \n",
       "\n",
       "[717 rows x 13 columns]"
      ]
     },
     "execution_count": 223,
     "metadata": {},
     "output_type": "execute_result"
    }
   ],
   "source": [
    "homicidios"
   ]
  },
  {
   "cell_type": "markdown",
   "metadata": {},
   "source": [
    "Eliminamos único registro con H sin dato"
   ]
  },
  {
   "cell_type": "code",
   "execution_count": 224,
   "metadata": {},
   "outputs": [
    {
     "data": {
      "text/html": [
       "<div>\n",
       "<style scoped>\n",
       "    .dataframe tbody tr th:only-of-type {\n",
       "        vertical-align: middle;\n",
       "    }\n",
       "\n",
       "    .dataframe tbody tr th {\n",
       "        vertical-align: top;\n",
       "    }\n",
       "\n",
       "    .dataframe thead th {\n",
       "        text-align: right;\n",
       "    }\n",
       "</style>\n",
       "<table border=\"1\" class=\"dataframe\">\n",
       "  <thead>\n",
       "    <tr style=\"text-align: right;\">\n",
       "      <th></th>\n",
       "      <th>ID</th>\n",
       "      <th>FECHA</th>\n",
       "      <th>A</th>\n",
       "      <th>M</th>\n",
       "      <th>D</th>\n",
       "      <th>H</th>\n",
       "      <th>COMUNA</th>\n",
       "      <th>LONGITUD</th>\n",
       "      <th>LATITUD</th>\n",
       "      <th>TIPO_CALLE</th>\n",
       "      <th>ACUSADO</th>\n",
       "      <th>VICTIMA</th>\n",
       "      <th>FATAL</th>\n",
       "    </tr>\n",
       "  </thead>\n",
       "  <tbody>\n",
       "    <tr>\n",
       "      <th>537</th>\n",
       "      <td>2019-0103</td>\n",
       "      <td>2019-12-18</td>\n",
       "      <td>2019</td>\n",
       "      <td>12</td>\n",
       "      <td>18</td>\n",
       "      <td>SD</td>\n",
       "      <td>11</td>\n",
       "      <td>-58.52169422</td>\n",
       "      <td>-34.59471640</td>\n",
       "      <td>GRAL PAZ</td>\n",
       "      <td>MOTO</td>\n",
       "      <td>MOTO</td>\n",
       "      <td>1</td>\n",
       "    </tr>\n",
       "  </tbody>\n",
       "</table>\n",
       "</div>"
      ],
      "text/plain": [
       "            ID      FECHA     A   M   D   H  COMUNA      LONGITUD  \\\n",
       "537  2019-0103 2019-12-18  2019  12  18  SD      11  -58.52169422   \n",
       "\n",
       "          LATITUD TIPO_CALLE ACUSADO VICTIMA  FATAL  \n",
       "537  -34.59471640   GRAL PAZ    MOTO    MOTO      1  "
      ]
     },
     "execution_count": 224,
     "metadata": {},
     "output_type": "execute_result"
    }
   ],
   "source": [
    "homicidios[homicidios['H'] == 'SD']"
   ]
  },
  {
   "cell_type": "code",
   "execution_count": 225,
   "metadata": {},
   "outputs": [],
   "source": [
    "homicidios = homicidios[homicidios['H'] != 'SD']"
   ]
  },
  {
   "cell_type": "markdown",
   "metadata": {},
   "source": [
    "Pasamos H a int"
   ]
  },
  {
   "cell_type": "code",
   "execution_count": 226,
   "metadata": {},
   "outputs": [],
   "source": [
    "homicidios = homicidios.copy()\n",
    "homicidios['H'] = homicidios['H'].astype(int)"
   ]
  },
  {
   "cell_type": "code",
   "execution_count": 227,
   "metadata": {},
   "outputs": [
    {
     "name": "stdout",
     "output_type": "stream",
     "text": [
      "<class 'pandas.core.frame.DataFrame'>\n",
      "Index: 716 entries, 0 to 716\n",
      "Data columns (total 13 columns):\n",
      " #   Column      Non-Null Count  Dtype         \n",
      "---  ------      --------------  -----         \n",
      " 0   ID          716 non-null    object        \n",
      " 1   FECHA       716 non-null    datetime64[ns]\n",
      " 2   A           716 non-null    int64         \n",
      " 3   M           716 non-null    int64         \n",
      " 4   D           716 non-null    int64         \n",
      " 5   H           716 non-null    int32         \n",
      " 6   COMUNA      716 non-null    int64         \n",
      " 7   LONGITUD    716 non-null    object        \n",
      " 8   LATITUD     716 non-null    object        \n",
      " 9   TIPO_CALLE  716 non-null    object        \n",
      " 10  ACUSADO     716 non-null    object        \n",
      " 11  VICTIMA     716 non-null    object        \n",
      " 12  FATAL       716 non-null    int64         \n",
      "dtypes: datetime64[ns](1), int32(1), int64(5), object(6)\n",
      "memory usage: 75.5+ KB\n"
     ]
    }
   ],
   "source": [
    "homicidios.info()"
   ]
  },
  {
   "cell_type": "markdown",
   "metadata": {},
   "source": [
    "***"
   ]
  },
  {
   "cell_type": "markdown",
   "metadata": {},
   "source": [
    "# 2"
   ]
  },
  {
   "cell_type": "markdown",
   "metadata": {},
   "source": [
    "## Extracción, transformación y carga de los datos de lesiones.xlsx, devolviendo un df 'lesiones' que contiene 27605 registros de víctimas con lesiones asociadas con los 23785 hechos a través de un ID."
   ]
  },
  {
   "cell_type": "code",
   "execution_count": 228,
   "metadata": {},
   "outputs": [],
   "source": [
    "hechos_les = pd.read_excel('lesiones.xlsx', sheet_name='HECHOS')\n",
    "victimas_les = pd.read_excel('lesiones.xlsx', sheet_name='VICTIMAS')"
   ]
  },
  {
   "cell_type": "code",
   "execution_count": 229,
   "metadata": {},
   "outputs": [],
   "source": [
    "hechos_l = hechos_les.copy()\n",
    "victimas_l = victimas_les.copy()"
   ]
  },
  {
   "cell_type": "markdown",
   "metadata": {},
   "source": [
    "Extracción de columnas a utilizar de ambas tablas"
   ]
  },
  {
   "cell_type": "code",
   "execution_count": 230,
   "metadata": {},
   "outputs": [],
   "source": [
    "hechos_l = hechos_l[['id','fecha','aaaa','mm','dd','franja_hora','comuna','longitud','latutid','tipo_calle','acusado']]\n",
    "victimas_l = victimas_l[['ID hecho','VEHICULO_VICTIMA']]"
   ]
  },
  {
   "cell_type": "markdown",
   "metadata": {},
   "source": [
    "Normalización del nombre de las columnas"
   ]
  },
  {
   "cell_type": "code",
   "execution_count": 231,
   "metadata": {},
   "outputs": [],
   "source": [
    "hechos_l.rename(columns={'id':'ID','fecha':'FECHA','aaaa':'A','mm':'M','dd':'D','franja_hora':'H',\n",
    "                         'comuna':'COMUNA','longitud':'LONGITUD','latutid':'LATITUD','tipo_calle':'TIPO_CALLE','acusado':'ACUSADO'}, inplace=True)\n",
    "victimas_l.rename(columns={'ID hecho':'ID','VEHICULO_VICTIMA':'VICTIMA'}, inplace=True)\n"
   ]
  },
  {
   "cell_type": "code",
   "execution_count": 232,
   "metadata": {},
   "outputs": [
    {
     "data": {
      "text/plain": [
       "(23785, 11)"
      ]
     },
     "execution_count": 232,
     "metadata": {},
     "output_type": "execute_result"
    }
   ],
   "source": [
    "hechos_l.shape"
   ]
  },
  {
   "cell_type": "code",
   "execution_count": 233,
   "metadata": {},
   "outputs": [
    {
     "data": {
      "text/plain": [
       "(27605, 2)"
      ]
     },
     "execution_count": 233,
     "metadata": {},
     "output_type": "execute_result"
    }
   ],
   "source": [
    "victimas_l.shape"
   ]
  },
  {
   "cell_type": "markdown",
   "metadata": {},
   "source": [
    "Merge entre ambas tablas, por medio de ID"
   ]
  },
  {
   "cell_type": "code",
   "execution_count": 234,
   "metadata": {},
   "outputs": [],
   "source": [
    "lesiones = pd.merge(hechos_l, victimas_l, on='ID', how='right')"
   ]
  },
  {
   "cell_type": "code",
   "execution_count": 235,
   "metadata": {},
   "outputs": [
    {
     "data": {
      "text/plain": [
       "(27605, 12)"
      ]
     },
     "execution_count": 235,
     "metadata": {},
     "output_type": "execute_result"
    }
   ],
   "source": [
    "lesiones.shape"
   ]
  },
  {
   "cell_type": "markdown",
   "metadata": {},
   "source": [
    "Agregamos la columna fatal con valor 0, para luego al unir con el df de lesiones, diferenciar fatal 1 o 0"
   ]
  },
  {
   "cell_type": "code",
   "execution_count": 236,
   "metadata": {},
   "outputs": [],
   "source": [
    "lesiones['FATAL'] = 0"
   ]
  },
  {
   "cell_type": "markdown",
   "metadata": {},
   "source": [
    "Pasamos FECHA a formato date"
   ]
  },
  {
   "cell_type": "code",
   "execution_count": 237,
   "metadata": {},
   "outputs": [],
   "source": [
    "lesiones['FECHA'] = pd.to_datetime(lesiones['FECHA'])"
   ]
  },
  {
   "cell_type": "code",
   "execution_count": 238,
   "metadata": {},
   "outputs": [
    {
     "data": {
      "text/html": [
       "<div>\n",
       "<style scoped>\n",
       "    .dataframe tbody tr th:only-of-type {\n",
       "        vertical-align: middle;\n",
       "    }\n",
       "\n",
       "    .dataframe tbody tr th {\n",
       "        vertical-align: top;\n",
       "    }\n",
       "\n",
       "    .dataframe thead th {\n",
       "        text-align: right;\n",
       "    }\n",
       "</style>\n",
       "<table border=\"1\" class=\"dataframe\">\n",
       "  <thead>\n",
       "    <tr style=\"text-align: right;\">\n",
       "      <th></th>\n",
       "      <th>ID</th>\n",
       "      <th>FECHA</th>\n",
       "      <th>A</th>\n",
       "      <th>M</th>\n",
       "      <th>D</th>\n",
       "      <th>H</th>\n",
       "      <th>COMUNA</th>\n",
       "      <th>LONGITUD</th>\n",
       "      <th>LATITUD</th>\n",
       "      <th>TIPO_CALLE</th>\n",
       "      <th>ACUSADO</th>\n",
       "      <th>VICTIMA</th>\n",
       "      <th>FATAL</th>\n",
       "    </tr>\n",
       "  </thead>\n",
       "  <tbody>\n",
       "    <tr>\n",
       "      <th>0</th>\n",
       "      <td>LC-2019-0000053</td>\n",
       "      <td>2019-01-01</td>\n",
       "      <td>2019.0</td>\n",
       "      <td>1.0</td>\n",
       "      <td>1.0</td>\n",
       "      <td>1</td>\n",
       "      <td>8</td>\n",
       "      <td>-58.44351</td>\n",
       "      <td>-34.669125</td>\n",
       "      <td>SD</td>\n",
       "      <td>SD</td>\n",
       "      <td>sd</td>\n",
       "      <td>0</td>\n",
       "    </tr>\n",
       "    <tr>\n",
       "      <th>1</th>\n",
       "      <td>LC-2019-0000063</td>\n",
       "      <td>2019-01-01</td>\n",
       "      <td>2019.0</td>\n",
       "      <td>1.0</td>\n",
       "      <td>1.0</td>\n",
       "      <td>2</td>\n",
       "      <td>8</td>\n",
       "      <td>-58.468335</td>\n",
       "      <td>-34.677556</td>\n",
       "      <td>SD</td>\n",
       "      <td>SD</td>\n",
       "      <td>sd</td>\n",
       "      <td>0</td>\n",
       "    </tr>\n",
       "    <tr>\n",
       "      <th>2</th>\n",
       "      <td>LC-2019-0000079</td>\n",
       "      <td>2019-01-01</td>\n",
       "      <td>2019.0</td>\n",
       "      <td>1.0</td>\n",
       "      <td>1.0</td>\n",
       "      <td>2</td>\n",
       "      <td>7</td>\n",
       "      <td>-58.437425</td>\n",
       "      <td>-34.647349</td>\n",
       "      <td>SD</td>\n",
       "      <td>SD</td>\n",
       "      <td>sd</td>\n",
       "      <td>0</td>\n",
       "    </tr>\n",
       "    <tr>\n",
       "      <th>3</th>\n",
       "      <td>LC-2019-0000082</td>\n",
       "      <td>2019-01-01</td>\n",
       "      <td>2019.0</td>\n",
       "      <td>1.0</td>\n",
       "      <td>1.0</td>\n",
       "      <td>4</td>\n",
       "      <td>3</td>\n",
       "      <td>-58.398225</td>\n",
       "      <td>-34.604579</td>\n",
       "      <td>SD</td>\n",
       "      <td>SD</td>\n",
       "      <td>sd</td>\n",
       "      <td>0</td>\n",
       "    </tr>\n",
       "    <tr>\n",
       "      <th>4</th>\n",
       "      <td>LC-2019-0000082</td>\n",
       "      <td>2019-01-01</td>\n",
       "      <td>2019.0</td>\n",
       "      <td>1.0</td>\n",
       "      <td>1.0</td>\n",
       "      <td>4</td>\n",
       "      <td>3</td>\n",
       "      <td>-58.398225</td>\n",
       "      <td>-34.604579</td>\n",
       "      <td>SD</td>\n",
       "      <td>SD</td>\n",
       "      <td>sd</td>\n",
       "      <td>0</td>\n",
       "    </tr>\n",
       "    <tr>\n",
       "      <th>...</th>\n",
       "      <td>...</td>\n",
       "      <td>...</td>\n",
       "      <td>...</td>\n",
       "      <td>...</td>\n",
       "      <td>...</td>\n",
       "      <td>...</td>\n",
       "      <td>...</td>\n",
       "      <td>...</td>\n",
       "      <td>...</td>\n",
       "      <td>...</td>\n",
       "      <td>...</td>\n",
       "      <td>...</td>\n",
       "      <td>...</td>\n",
       "    </tr>\n",
       "    <tr>\n",
       "      <th>27600</th>\n",
       "      <td>LC-2021-0451911</td>\n",
       "      <td>2021-09-11</td>\n",
       "      <td>2021.0</td>\n",
       "      <td>9.0</td>\n",
       "      <td>11.0</td>\n",
       "      <td>18</td>\n",
       "      <td>14</td>\n",
       "      <td>-58.420119387377</td>\n",
       "      <td>-34.581370448309</td>\n",
       "      <td>AVENIDA</td>\n",
       "      <td>TRANSPORTE PUBLICO</td>\n",
       "      <td>TRANSPORTE PUBLICO</td>\n",
       "      <td>0</td>\n",
       "    </tr>\n",
       "    <tr>\n",
       "      <th>27601</th>\n",
       "      <td>LC-2021-0530228</td>\n",
       "      <td>2021-10-25</td>\n",
       "      <td>2021.0</td>\n",
       "      <td>10.0</td>\n",
       "      <td>25.0</td>\n",
       "      <td>12</td>\n",
       "      <td>14</td>\n",
       "      <td>-58.406897</td>\n",
       "      <td>-34.581142</td>\n",
       "      <td>SD</td>\n",
       "      <td>TRANSPORTE PUBLICO</td>\n",
       "      <td>TRANSPORTE PUBLICO</td>\n",
       "      <td>0</td>\n",
       "    </tr>\n",
       "    <tr>\n",
       "      <th>27602</th>\n",
       "      <td>LC-2021-0530228</td>\n",
       "      <td>2021-10-25</td>\n",
       "      <td>2021.0</td>\n",
       "      <td>10.0</td>\n",
       "      <td>25.0</td>\n",
       "      <td>12</td>\n",
       "      <td>14</td>\n",
       "      <td>-58.406897</td>\n",
       "      <td>-34.581142</td>\n",
       "      <td>SD</td>\n",
       "      <td>TRANSPORTE PUBLICO</td>\n",
       "      <td>TRANSPORTE PUBLICO</td>\n",
       "      <td>0</td>\n",
       "    </tr>\n",
       "    <tr>\n",
       "      <th>27603</th>\n",
       "      <td>LC-2021-0201378</td>\n",
       "      <td>2021-05-02</td>\n",
       "      <td>2021.0</td>\n",
       "      <td>5.0</td>\n",
       "      <td>2.0</td>\n",
       "      <td>0</td>\n",
       "      <td>SD</td>\n",
       "      <td>SD</td>\n",
       "      <td>SD</td>\n",
       "      <td>SD</td>\n",
       "      <td>OBJETO FIJO</td>\n",
       "      <td>MOTO</td>\n",
       "      <td>0</td>\n",
       "    </tr>\n",
       "    <tr>\n",
       "      <th>27604</th>\n",
       "      <td>LC-2021-0229350</td>\n",
       "      <td>2021-05-19</td>\n",
       "      <td>2021.0</td>\n",
       "      <td>5.0</td>\n",
       "      <td>19.0</td>\n",
       "      <td>0</td>\n",
       "      <td>SD</td>\n",
       "      <td>SD</td>\n",
       "      <td>SD</td>\n",
       "      <td>SD</td>\n",
       "      <td>AUTO</td>\n",
       "      <td>MOTO</td>\n",
       "      <td>0</td>\n",
       "    </tr>\n",
       "  </tbody>\n",
       "</table>\n",
       "<p>27605 rows × 13 columns</p>\n",
       "</div>"
      ],
      "text/plain": [
       "                    ID      FECHA       A     M     D   H COMUNA  \\\n",
       "0      LC-2019-0000053 2019-01-01  2019.0   1.0   1.0   1      8   \n",
       "1      LC-2019-0000063 2019-01-01  2019.0   1.0   1.0   2      8   \n",
       "2      LC-2019-0000079 2019-01-01  2019.0   1.0   1.0   2      7   \n",
       "3      LC-2019-0000082 2019-01-01  2019.0   1.0   1.0   4      3   \n",
       "4      LC-2019-0000082 2019-01-01  2019.0   1.0   1.0   4      3   \n",
       "...                ...        ...     ...   ...   ...  ..    ...   \n",
       "27600  LC-2021-0451911 2021-09-11  2021.0   9.0  11.0  18     14   \n",
       "27601  LC-2021-0530228 2021-10-25  2021.0  10.0  25.0  12     14   \n",
       "27602  LC-2021-0530228 2021-10-25  2021.0  10.0  25.0  12     14   \n",
       "27603  LC-2021-0201378 2021-05-02  2021.0   5.0   2.0   0     SD   \n",
       "27604  LC-2021-0229350 2021-05-19  2021.0   5.0  19.0   0     SD   \n",
       "\n",
       "               LONGITUD           LATITUD TIPO_CALLE             ACUSADO  \\\n",
       "0             -58.44351        -34.669125         SD                  SD   \n",
       "1            -58.468335        -34.677556         SD                  SD   \n",
       "2            -58.437425        -34.647349         SD                  SD   \n",
       "3            -58.398225        -34.604579         SD                  SD   \n",
       "4            -58.398225        -34.604579         SD                  SD   \n",
       "...                 ...               ...        ...                 ...   \n",
       "27600  -58.420119387377  -34.581370448309    AVENIDA  TRANSPORTE PUBLICO   \n",
       "27601        -58.406897        -34.581142         SD  TRANSPORTE PUBLICO   \n",
       "27602        -58.406897        -34.581142         SD  TRANSPORTE PUBLICO   \n",
       "27603                SD                SD         SD         OBJETO FIJO   \n",
       "27604                SD                SD         SD                AUTO   \n",
       "\n",
       "                  VICTIMA  FATAL  \n",
       "0                      sd      0  \n",
       "1                      sd      0  \n",
       "2                      sd      0  \n",
       "3                      sd      0  \n",
       "4                      sd      0  \n",
       "...                   ...    ...  \n",
       "27600  TRANSPORTE PUBLICO      0  \n",
       "27601  TRANSPORTE PUBLICO      0  \n",
       "27602  TRANSPORTE PUBLICO      0  \n",
       "27603                MOTO      0  \n",
       "27604                MOTO      0  \n",
       "\n",
       "[27605 rows x 13 columns]"
      ]
     },
     "execution_count": 238,
     "metadata": {},
     "output_type": "execute_result"
    }
   ],
   "source": [
    "lesiones"
   ]
  },
  {
   "cell_type": "code",
   "execution_count": 239,
   "metadata": {},
   "outputs": [
    {
     "name": "stdout",
     "output_type": "stream",
     "text": [
      "<class 'pandas.core.frame.DataFrame'>\n",
      "RangeIndex: 27605 entries, 0 to 27604\n",
      "Data columns (total 13 columns):\n",
      " #   Column      Non-Null Count  Dtype         \n",
      "---  ------      --------------  -----         \n",
      " 0   ID          27605 non-null  object        \n",
      " 1   FECHA       27598 non-null  datetime64[ns]\n",
      " 2   A           27598 non-null  float64       \n",
      " 3   M           27598 non-null  float64       \n",
      " 4   D           27598 non-null  float64       \n",
      " 5   H           27593 non-null  object        \n",
      " 6   COMUNA      27420 non-null  object        \n",
      " 7   LONGITUD    27328 non-null  object        \n",
      " 8   LATITUD     27328 non-null  object        \n",
      " 9   TIPO_CALLE  27598 non-null  object        \n",
      " 10  ACUSADO     27598 non-null  object        \n",
      " 11  VICTIMA     27605 non-null  object        \n",
      " 12  FATAL       27605 non-null  int64         \n",
      "dtypes: datetime64[ns](1), float64(3), int64(1), object(8)\n",
      "memory usage: 2.7+ MB\n"
     ]
    }
   ],
   "source": [
    "lesiones.info()"
   ]
  },
  {
   "cell_type": "markdown",
   "metadata": {},
   "source": [
    "Borro los 7 valores con Año nulo, ya que son registros casi sin datos"
   ]
  },
  {
   "cell_type": "code",
   "execution_count": 240,
   "metadata": {},
   "outputs": [
    {
     "data": {
      "text/html": [
       "<div>\n",
       "<style scoped>\n",
       "    .dataframe tbody tr th:only-of-type {\n",
       "        vertical-align: middle;\n",
       "    }\n",
       "\n",
       "    .dataframe tbody tr th {\n",
       "        vertical-align: top;\n",
       "    }\n",
       "\n",
       "    .dataframe thead th {\n",
       "        text-align: right;\n",
       "    }\n",
       "</style>\n",
       "<table border=\"1\" class=\"dataframe\">\n",
       "  <thead>\n",
       "    <tr style=\"text-align: right;\">\n",
       "      <th></th>\n",
       "      <th>ID</th>\n",
       "      <th>FECHA</th>\n",
       "      <th>A</th>\n",
       "      <th>M</th>\n",
       "      <th>D</th>\n",
       "      <th>H</th>\n",
       "      <th>COMUNA</th>\n",
       "      <th>LONGITUD</th>\n",
       "      <th>LATITUD</th>\n",
       "      <th>TIPO_CALLE</th>\n",
       "      <th>ACUSADO</th>\n",
       "      <th>VICTIMA</th>\n",
       "      <th>FATAL</th>\n",
       "    </tr>\n",
       "  </thead>\n",
       "  <tbody>\n",
       "    <tr>\n",
       "      <th>11790</th>\n",
       "      <td>PNA-2019-0005246</td>\n",
       "      <td>NaT</td>\n",
       "      <td>NaN</td>\n",
       "      <td>NaN</td>\n",
       "      <td>NaN</td>\n",
       "      <td>NaN</td>\n",
       "      <td>NaN</td>\n",
       "      <td>NaN</td>\n",
       "      <td>NaN</td>\n",
       "      <td>NaN</td>\n",
       "      <td>NaN</td>\n",
       "      <td>sd</td>\n",
       "      <td>0</td>\n",
       "    </tr>\n",
       "    <tr>\n",
       "      <th>16186</th>\n",
       "      <td>HC-2020-0499647</td>\n",
       "      <td>NaT</td>\n",
       "      <td>NaN</td>\n",
       "      <td>NaN</td>\n",
       "      <td>NaN</td>\n",
       "      <td>NaN</td>\n",
       "      <td>NaN</td>\n",
       "      <td>NaN</td>\n",
       "      <td>NaN</td>\n",
       "      <td>NaN</td>\n",
       "      <td>NaN</td>\n",
       "      <td>AUTO</td>\n",
       "      <td>0</td>\n",
       "    </tr>\n",
       "    <tr>\n",
       "      <th>16187</th>\n",
       "      <td>HC-2020-0499647</td>\n",
       "      <td>NaT</td>\n",
       "      <td>NaN</td>\n",
       "      <td>NaN</td>\n",
       "      <td>NaN</td>\n",
       "      <td>NaN</td>\n",
       "      <td>NaN</td>\n",
       "      <td>NaN</td>\n",
       "      <td>NaN</td>\n",
       "      <td>NaN</td>\n",
       "      <td>NaN</td>\n",
       "      <td>AUTO</td>\n",
       "      <td>0</td>\n",
       "    </tr>\n",
       "    <tr>\n",
       "      <th>16188</th>\n",
       "      <td>HC-2020-0499647</td>\n",
       "      <td>NaT</td>\n",
       "      <td>NaN</td>\n",
       "      <td>NaN</td>\n",
       "      <td>NaN</td>\n",
       "      <td>NaN</td>\n",
       "      <td>NaN</td>\n",
       "      <td>NaN</td>\n",
       "      <td>NaN</td>\n",
       "      <td>NaN</td>\n",
       "      <td>NaN</td>\n",
       "      <td>AUTO</td>\n",
       "      <td>0</td>\n",
       "    </tr>\n",
       "    <tr>\n",
       "      <th>22821</th>\n",
       "      <td>HC-2021-0147160</td>\n",
       "      <td>NaT</td>\n",
       "      <td>NaN</td>\n",
       "      <td>NaN</td>\n",
       "      <td>NaN</td>\n",
       "      <td>NaN</td>\n",
       "      <td>NaN</td>\n",
       "      <td>NaN</td>\n",
       "      <td>NaN</td>\n",
       "      <td>NaN</td>\n",
       "      <td>NaN</td>\n",
       "      <td>SD</td>\n",
       "      <td>0</td>\n",
       "    </tr>\n",
       "    <tr>\n",
       "      <th>22822</th>\n",
       "      <td>HC-2021-0147160</td>\n",
       "      <td>NaT</td>\n",
       "      <td>NaN</td>\n",
       "      <td>NaN</td>\n",
       "      <td>NaN</td>\n",
       "      <td>NaN</td>\n",
       "      <td>NaN</td>\n",
       "      <td>NaN</td>\n",
       "      <td>NaN</td>\n",
       "      <td>NaN</td>\n",
       "      <td>NaN</td>\n",
       "      <td>SD</td>\n",
       "      <td>0</td>\n",
       "    </tr>\n",
       "    <tr>\n",
       "      <th>26799</th>\n",
       "      <td>HC-2021-0167039</td>\n",
       "      <td>NaT</td>\n",
       "      <td>NaN</td>\n",
       "      <td>NaN</td>\n",
       "      <td>NaN</td>\n",
       "      <td>NaN</td>\n",
       "      <td>NaN</td>\n",
       "      <td>NaN</td>\n",
       "      <td>NaN</td>\n",
       "      <td>NaN</td>\n",
       "      <td>NaN</td>\n",
       "      <td>PEATON</td>\n",
       "      <td>0</td>\n",
       "    </tr>\n",
       "  </tbody>\n",
       "</table>\n",
       "</div>"
      ],
      "text/plain": [
       "                      ID FECHA   A   M   D    H COMUNA LONGITUD LATITUD  \\\n",
       "11790  PNA-2019-0005246    NaT NaN NaN NaN  NaN    NaN      NaN     NaN   \n",
       "16186    HC-2020-0499647   NaT NaN NaN NaN  NaN    NaN      NaN     NaN   \n",
       "16187    HC-2020-0499647   NaT NaN NaN NaN  NaN    NaN      NaN     NaN   \n",
       "16188    HC-2020-0499647   NaT NaN NaN NaN  NaN    NaN      NaN     NaN   \n",
       "22821    HC-2021-0147160   NaT NaN NaN NaN  NaN    NaN      NaN     NaN   \n",
       "22822    HC-2021-0147160   NaT NaN NaN NaN  NaN    NaN      NaN     NaN   \n",
       "26799    HC-2021-0167039   NaT NaN NaN NaN  NaN    NaN      NaN     NaN   \n",
       "\n",
       "      TIPO_CALLE ACUSADO VICTIMA  FATAL  \n",
       "11790        NaN     NaN      sd      0  \n",
       "16186        NaN     NaN    AUTO      0  \n",
       "16187        NaN     NaN    AUTO      0  \n",
       "16188        NaN     NaN    AUTO      0  \n",
       "22821        NaN     NaN      SD      0  \n",
       "22822        NaN     NaN      SD      0  \n",
       "26799        NaN     NaN  PEATON      0  "
      ]
     },
     "execution_count": 240,
     "metadata": {},
     "output_type": "execute_result"
    }
   ],
   "source": [
    "lesiones[lesiones['A'].isna()]"
   ]
  },
  {
   "cell_type": "code",
   "execution_count": 241,
   "metadata": {},
   "outputs": [],
   "source": [
    "lesiones.dropna(subset=['A'], inplace=True)"
   ]
  },
  {
   "cell_type": "markdown",
   "metadata": {},
   "source": [
    "paso Año, Mes y Día a entero"
   ]
  },
  {
   "cell_type": "code",
   "execution_count": 242,
   "metadata": {},
   "outputs": [],
   "source": [
    "lesiones = lesiones.copy()\n",
    "lesiones['A'] = lesiones['A'].astype(int)"
   ]
  },
  {
   "cell_type": "code",
   "execution_count": 243,
   "metadata": {},
   "outputs": [],
   "source": [
    "lesiones = lesiones.copy()\n",
    "lesiones['M'] = lesiones['M'].astype(int)"
   ]
  },
  {
   "cell_type": "code",
   "execution_count": 244,
   "metadata": {},
   "outputs": [],
   "source": [
    "lesiones = lesiones.copy()\n",
    "lesiones['D'] = lesiones['D'].astype(int)"
   ]
  },
  {
   "cell_type": "markdown",
   "metadata": {},
   "source": [
    "Paso Hora a entero"
   ]
  },
  {
   "cell_type": "code",
   "execution_count": 245,
   "metadata": {},
   "outputs": [
    {
     "data": {
      "text/html": [
       "<div>\n",
       "<style scoped>\n",
       "    .dataframe tbody tr th:only-of-type {\n",
       "        vertical-align: middle;\n",
       "    }\n",
       "\n",
       "    .dataframe tbody tr th {\n",
       "        vertical-align: top;\n",
       "    }\n",
       "\n",
       "    .dataframe thead th {\n",
       "        text-align: right;\n",
       "    }\n",
       "</style>\n",
       "<table border=\"1\" class=\"dataframe\">\n",
       "  <thead>\n",
       "    <tr style=\"text-align: right;\">\n",
       "      <th></th>\n",
       "      <th>ID</th>\n",
       "      <th>FECHA</th>\n",
       "      <th>A</th>\n",
       "      <th>M</th>\n",
       "      <th>D</th>\n",
       "      <th>H</th>\n",
       "      <th>COMUNA</th>\n",
       "      <th>LONGITUD</th>\n",
       "      <th>LATITUD</th>\n",
       "      <th>TIPO_CALLE</th>\n",
       "      <th>ACUSADO</th>\n",
       "      <th>VICTIMA</th>\n",
       "      <th>FATAL</th>\n",
       "    </tr>\n",
       "  </thead>\n",
       "  <tbody>\n",
       "    <tr>\n",
       "      <th>11783</th>\n",
       "      <td>PFA-2019-0000120</td>\n",
       "      <td>2019-02-26</td>\n",
       "      <td>2019</td>\n",
       "      <td>2</td>\n",
       "      <td>26</td>\n",
       "      <td>sd</td>\n",
       "      <td>NaN</td>\n",
       "      <td>NaN</td>\n",
       "      <td>NaN</td>\n",
       "      <td>SD</td>\n",
       "      <td>SD</td>\n",
       "      <td>sd</td>\n",
       "      <td>0</td>\n",
       "    </tr>\n",
       "    <tr>\n",
       "      <th>11784</th>\n",
       "      <td>PFA-2019-0000301</td>\n",
       "      <td>2019-11-04</td>\n",
       "      <td>2019</td>\n",
       "      <td>11</td>\n",
       "      <td>4</td>\n",
       "      <td>sd</td>\n",
       "      <td>NaN</td>\n",
       "      <td>NaN</td>\n",
       "      <td>NaN</td>\n",
       "      <td>SD</td>\n",
       "      <td>SD</td>\n",
       "      <td>sd</td>\n",
       "      <td>0</td>\n",
       "    </tr>\n",
       "    <tr>\n",
       "      <th>18744</th>\n",
       "      <td>LC-2021-0448511</td>\n",
       "      <td>2021-08-23</td>\n",
       "      <td>2021</td>\n",
       "      <td>8</td>\n",
       "      <td>23</td>\n",
       "      <td>sd</td>\n",
       "      <td>SD</td>\n",
       "      <td>SD</td>\n",
       "      <td>SD</td>\n",
       "      <td>SD</td>\n",
       "      <td>SD</td>\n",
       "      <td>SD</td>\n",
       "      <td>0</td>\n",
       "    </tr>\n",
       "  </tbody>\n",
       "</table>\n",
       "</div>"
      ],
      "text/plain": [
       "                     ID      FECHA     A   M   D   H COMUNA LONGITUD LATITUD  \\\n",
       "11783  PFA-2019-0000120 2019-02-26  2019   2  26  sd    NaN      NaN     NaN   \n",
       "11784  PFA-2019-0000301 2019-11-04  2019  11   4  sd    NaN      NaN     NaN   \n",
       "18744   LC-2021-0448511 2021-08-23  2021   8  23  sd     SD       SD      SD   \n",
       "\n",
       "      TIPO_CALLE ACUSADO VICTIMA  FATAL  \n",
       "11783         SD      SD      sd      0  \n",
       "11784         SD      SD      sd      0  \n",
       "18744         SD      SD      SD      0  "
      ]
     },
     "execution_count": 245,
     "metadata": {},
     "output_type": "execute_result"
    }
   ],
   "source": [
    "lesiones[lesiones['H'] == 'sd']"
   ]
  },
  {
   "cell_type": "code",
   "execution_count": 246,
   "metadata": {},
   "outputs": [],
   "source": [
    "lesiones = lesiones[lesiones['H'] != 'sd']\n",
    "lesiones = lesiones.dropna(subset=['H'])"
   ]
  },
  {
   "cell_type": "code",
   "execution_count": 247,
   "metadata": {},
   "outputs": [],
   "source": [
    "lesiones = lesiones.copy()\n",
    "lesiones['H'] = lesiones['H'].astype(int)"
   ]
  },
  {
   "cell_type": "markdown",
   "metadata": {},
   "source": [
    "***"
   ]
  },
  {
   "cell_type": "markdown",
   "metadata": {},
   "source": [
    "### Exportamos como csv de respaldo el df homicidios y el df lesiones con los merge y normalizaciones ya realizados"
   ]
  },
  {
   "cell_type": "code",
   "execution_count": 248,
   "metadata": {},
   "outputs": [],
   "source": [
    "#homicidios.to_csv('homicidiosETL.csv', index=False)\n",
    "#lesiones.to_csv('lesionesETL.csv', index=False)\n",
    "#hom = pd.read_csv('homicidiosETL.csv')\n",
    "#les = pd.read_csv('lesionesETL.csv')"
   ]
  },
  {
   "cell_type": "markdown",
   "metadata": {},
   "source": [
    "***"
   ]
  },
  {
   "cell_type": "markdown",
   "metadata": {},
   "source": [
    "# 3"
   ]
  },
  {
   "cell_type": "markdown",
   "metadata": {},
   "source": [
    "## Concatenación de ambos df (homicidios y lesiones), en un archivo total, llamado siniestrosETL.csv, donde se encuentran los 28322 registros totales que incluyen las 28322 víctimas (717 fatales + 27605 lesionadas) y se relacionan con un hecho específico de los 24481 hechos registrados (23785 con lesiones + 696 con víctimas fatales)"
   ]
  },
  {
   "cell_type": "code",
   "execution_count": 249,
   "metadata": {},
   "outputs": [],
   "source": [
    "hom = homicidios.copy()\n",
    "les = lesiones.copy()"
   ]
  },
  {
   "cell_type": "code",
   "execution_count": 250,
   "metadata": {},
   "outputs": [],
   "source": [
    "siniestros = pd.concat([hom, les], ignore_index=True)"
   ]
  },
  {
   "cell_type": "code",
   "execution_count": 251,
   "metadata": {},
   "outputs": [
    {
     "data": {
      "text/html": [
       "<div>\n",
       "<style scoped>\n",
       "    .dataframe tbody tr th:only-of-type {\n",
       "        vertical-align: middle;\n",
       "    }\n",
       "\n",
       "    .dataframe tbody tr th {\n",
       "        vertical-align: top;\n",
       "    }\n",
       "\n",
       "    .dataframe thead th {\n",
       "        text-align: right;\n",
       "    }\n",
       "</style>\n",
       "<table border=\"1\" class=\"dataframe\">\n",
       "  <thead>\n",
       "    <tr style=\"text-align: right;\">\n",
       "      <th></th>\n",
       "      <th>ID</th>\n",
       "      <th>FECHA</th>\n",
       "      <th>A</th>\n",
       "      <th>M</th>\n",
       "      <th>D</th>\n",
       "      <th>H</th>\n",
       "      <th>COMUNA</th>\n",
       "      <th>LONGITUD</th>\n",
       "      <th>LATITUD</th>\n",
       "      <th>TIPO_CALLE</th>\n",
       "      <th>ACUSADO</th>\n",
       "      <th>VICTIMA</th>\n",
       "      <th>FATAL</th>\n",
       "    </tr>\n",
       "  </thead>\n",
       "  <tbody>\n",
       "    <tr>\n",
       "      <th>0</th>\n",
       "      <td>2016-0001</td>\n",
       "      <td>2016-01-01</td>\n",
       "      <td>2016</td>\n",
       "      <td>1</td>\n",
       "      <td>1</td>\n",
       "      <td>4</td>\n",
       "      <td>8</td>\n",
       "      <td>-58.47533969</td>\n",
       "      <td>-34.68757022</td>\n",
       "      <td>AVENIDA</td>\n",
       "      <td>AUTO</td>\n",
       "      <td>MOTO</td>\n",
       "      <td>1</td>\n",
       "    </tr>\n",
       "    <tr>\n",
       "      <th>1</th>\n",
       "      <td>2016-0002</td>\n",
       "      <td>2016-01-02</td>\n",
       "      <td>2016</td>\n",
       "      <td>1</td>\n",
       "      <td>2</td>\n",
       "      <td>1</td>\n",
       "      <td>9</td>\n",
       "      <td>-58.50877521</td>\n",
       "      <td>-34.66977709</td>\n",
       "      <td>GRAL PAZ</td>\n",
       "      <td>PASAJEROS</td>\n",
       "      <td>AUTO</td>\n",
       "      <td>1</td>\n",
       "    </tr>\n",
       "    <tr>\n",
       "      <th>2</th>\n",
       "      <td>2016-0003</td>\n",
       "      <td>2016-01-03</td>\n",
       "      <td>2016</td>\n",
       "      <td>1</td>\n",
       "      <td>3</td>\n",
       "      <td>7</td>\n",
       "      <td>1</td>\n",
       "      <td>-58.39040293</td>\n",
       "      <td>-34.63189362</td>\n",
       "      <td>AVENIDA</td>\n",
       "      <td>AUTO</td>\n",
       "      <td>MOTO</td>\n",
       "      <td>1</td>\n",
       "    </tr>\n",
       "    <tr>\n",
       "      <th>3</th>\n",
       "      <td>2016-0004</td>\n",
       "      <td>2016-01-10</td>\n",
       "      <td>2016</td>\n",
       "      <td>1</td>\n",
       "      <td>10</td>\n",
       "      <td>0</td>\n",
       "      <td>8</td>\n",
       "      <td>-58.46503904</td>\n",
       "      <td>-34.68092974</td>\n",
       "      <td>AVENIDA</td>\n",
       "      <td>SD</td>\n",
       "      <td>MOTO</td>\n",
       "      <td>1</td>\n",
       "    </tr>\n",
       "    <tr>\n",
       "      <th>4</th>\n",
       "      <td>2016-0005</td>\n",
       "      <td>2016-01-21</td>\n",
       "      <td>2016</td>\n",
       "      <td>1</td>\n",
       "      <td>21</td>\n",
       "      <td>5</td>\n",
       "      <td>1</td>\n",
       "      <td>-58.38718297</td>\n",
       "      <td>-34.62246630</td>\n",
       "      <td>AVENIDA</td>\n",
       "      <td>PASAJEROS</td>\n",
       "      <td>MOTO</td>\n",
       "      <td>1</td>\n",
       "    </tr>\n",
       "    <tr>\n",
       "      <th>...</th>\n",
       "      <td>...</td>\n",
       "      <td>...</td>\n",
       "      <td>...</td>\n",
       "      <td>...</td>\n",
       "      <td>...</td>\n",
       "      <td>...</td>\n",
       "      <td>...</td>\n",
       "      <td>...</td>\n",
       "      <td>...</td>\n",
       "      <td>...</td>\n",
       "      <td>...</td>\n",
       "      <td>...</td>\n",
       "      <td>...</td>\n",
       "    </tr>\n",
       "    <tr>\n",
       "      <th>28301</th>\n",
       "      <td>LC-2021-0451911</td>\n",
       "      <td>2021-09-11</td>\n",
       "      <td>2021</td>\n",
       "      <td>9</td>\n",
       "      <td>11</td>\n",
       "      <td>18</td>\n",
       "      <td>14</td>\n",
       "      <td>-58.420119387377</td>\n",
       "      <td>-34.581370448309</td>\n",
       "      <td>AVENIDA</td>\n",
       "      <td>TRANSPORTE PUBLICO</td>\n",
       "      <td>TRANSPORTE PUBLICO</td>\n",
       "      <td>0</td>\n",
       "    </tr>\n",
       "    <tr>\n",
       "      <th>28302</th>\n",
       "      <td>LC-2021-0530228</td>\n",
       "      <td>2021-10-25</td>\n",
       "      <td>2021</td>\n",
       "      <td>10</td>\n",
       "      <td>25</td>\n",
       "      <td>12</td>\n",
       "      <td>14</td>\n",
       "      <td>-58.406897</td>\n",
       "      <td>-34.581142</td>\n",
       "      <td>SD</td>\n",
       "      <td>TRANSPORTE PUBLICO</td>\n",
       "      <td>TRANSPORTE PUBLICO</td>\n",
       "      <td>0</td>\n",
       "    </tr>\n",
       "    <tr>\n",
       "      <th>28303</th>\n",
       "      <td>LC-2021-0530228</td>\n",
       "      <td>2021-10-25</td>\n",
       "      <td>2021</td>\n",
       "      <td>10</td>\n",
       "      <td>25</td>\n",
       "      <td>12</td>\n",
       "      <td>14</td>\n",
       "      <td>-58.406897</td>\n",
       "      <td>-34.581142</td>\n",
       "      <td>SD</td>\n",
       "      <td>TRANSPORTE PUBLICO</td>\n",
       "      <td>TRANSPORTE PUBLICO</td>\n",
       "      <td>0</td>\n",
       "    </tr>\n",
       "    <tr>\n",
       "      <th>28304</th>\n",
       "      <td>LC-2021-0201378</td>\n",
       "      <td>2021-05-02</td>\n",
       "      <td>2021</td>\n",
       "      <td>5</td>\n",
       "      <td>2</td>\n",
       "      <td>0</td>\n",
       "      <td>SD</td>\n",
       "      <td>SD</td>\n",
       "      <td>SD</td>\n",
       "      <td>SD</td>\n",
       "      <td>OBJETO FIJO</td>\n",
       "      <td>MOTO</td>\n",
       "      <td>0</td>\n",
       "    </tr>\n",
       "    <tr>\n",
       "      <th>28305</th>\n",
       "      <td>LC-2021-0229350</td>\n",
       "      <td>2021-05-19</td>\n",
       "      <td>2021</td>\n",
       "      <td>5</td>\n",
       "      <td>19</td>\n",
       "      <td>0</td>\n",
       "      <td>SD</td>\n",
       "      <td>SD</td>\n",
       "      <td>SD</td>\n",
       "      <td>SD</td>\n",
       "      <td>AUTO</td>\n",
       "      <td>MOTO</td>\n",
       "      <td>0</td>\n",
       "    </tr>\n",
       "  </tbody>\n",
       "</table>\n",
       "<p>28306 rows × 13 columns</p>\n",
       "</div>"
      ],
      "text/plain": [
       "                    ID      FECHA     A   M   D   H COMUNA          LONGITUD  \\\n",
       "0            2016-0001 2016-01-01  2016   1   1   4      8      -58.47533969   \n",
       "1            2016-0002 2016-01-02  2016   1   2   1      9      -58.50877521   \n",
       "2            2016-0003 2016-01-03  2016   1   3   7      1      -58.39040293   \n",
       "3            2016-0004 2016-01-10  2016   1  10   0      8      -58.46503904   \n",
       "4            2016-0005 2016-01-21  2016   1  21   5      1      -58.38718297   \n",
       "...                ...        ...   ...  ..  ..  ..    ...               ...   \n",
       "28301  LC-2021-0451911 2021-09-11  2021   9  11  18     14  -58.420119387377   \n",
       "28302  LC-2021-0530228 2021-10-25  2021  10  25  12     14        -58.406897   \n",
       "28303  LC-2021-0530228 2021-10-25  2021  10  25  12     14        -58.406897   \n",
       "28304  LC-2021-0201378 2021-05-02  2021   5   2   0     SD                SD   \n",
       "28305  LC-2021-0229350 2021-05-19  2021   5  19   0     SD                SD   \n",
       "\n",
       "                LATITUD TIPO_CALLE             ACUSADO             VICTIMA  \\\n",
       "0          -34.68757022    AVENIDA                AUTO                MOTO   \n",
       "1          -34.66977709   GRAL PAZ           PASAJEROS                AUTO   \n",
       "2          -34.63189362    AVENIDA                AUTO                MOTO   \n",
       "3          -34.68092974    AVENIDA                  SD                MOTO   \n",
       "4          -34.62246630    AVENIDA           PASAJEROS                MOTO   \n",
       "...                 ...        ...                 ...                 ...   \n",
       "28301  -34.581370448309    AVENIDA  TRANSPORTE PUBLICO  TRANSPORTE PUBLICO   \n",
       "28302        -34.581142         SD  TRANSPORTE PUBLICO  TRANSPORTE PUBLICO   \n",
       "28303        -34.581142         SD  TRANSPORTE PUBLICO  TRANSPORTE PUBLICO   \n",
       "28304                SD         SD         OBJETO FIJO                MOTO   \n",
       "28305                SD         SD                AUTO                MOTO   \n",
       "\n",
       "       FATAL  \n",
       "0          1  \n",
       "1          1  \n",
       "2          1  \n",
       "3          1  \n",
       "4          1  \n",
       "...      ...  \n",
       "28301      0  \n",
       "28302      0  \n",
       "28303      0  \n",
       "28304      0  \n",
       "28305      0  \n",
       "\n",
       "[28306 rows x 13 columns]"
      ]
     },
     "execution_count": 251,
     "metadata": {},
     "output_type": "execute_result"
    }
   ],
   "source": [
    "siniestros"
   ]
  },
  {
   "cell_type": "code",
   "execution_count": 252,
   "metadata": {},
   "outputs": [
    {
     "name": "stdout",
     "output_type": "stream",
     "text": [
      "<class 'pandas.core.frame.DataFrame'>\n",
      "RangeIndex: 28306 entries, 0 to 28305\n",
      "Data columns (total 13 columns):\n",
      " #   Column      Non-Null Count  Dtype         \n",
      "---  ------      --------------  -----         \n",
      " 0   ID          28306 non-null  object        \n",
      " 1   FECHA       28306 non-null  datetime64[ns]\n",
      " 2   A           28306 non-null  int64         \n",
      " 3   M           28306 non-null  int64         \n",
      " 4   D           28306 non-null  int64         \n",
      " 5   H           28306 non-null  int32         \n",
      " 6   COMUNA      28130 non-null  object        \n",
      " 7   LONGITUD    28038 non-null  object        \n",
      " 8   LATITUD     28038 non-null  object        \n",
      " 9   TIPO_CALLE  28306 non-null  object        \n",
      " 10  ACUSADO     28306 non-null  object        \n",
      " 11  VICTIMA     28306 non-null  object        \n",
      " 12  FATAL       28306 non-null  int64         \n",
      "dtypes: datetime64[ns](1), int32(1), int64(4), object(7)\n",
      "memory usage: 2.7+ MB\n"
     ]
    }
   ],
   "source": [
    "siniestros.info()"
   ]
  },
  {
   "cell_type": "markdown",
   "metadata": {},
   "source": [
    "Exportación del archivo siniestrosETL.csv"
   ]
  },
  {
   "cell_type": "code",
   "execution_count": 253,
   "metadata": {},
   "outputs": [],
   "source": [
    "siniestros.to_csv('siniestrosETL.csv', index=False)"
   ]
  },
  {
   "cell_type": "markdown",
   "metadata": {},
   "source": [
    "***"
   ]
  }
 ],
 "metadata": {
  "kernelspec": {
   "display_name": "Python 3",
   "language": "python",
   "name": "python3"
  },
  "language_info": {
   "codemirror_mode": {
    "name": "ipython",
    "version": 3
   },
   "file_extension": ".py",
   "mimetype": "text/x-python",
   "name": "python",
   "nbconvert_exporter": "python",
   "pygments_lexer": "ipython3",
   "version": "3.11.2"
  },
  "orig_nbformat": 4
 },
 "nbformat": 4,
 "nbformat_minor": 2
}
